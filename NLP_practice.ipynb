{
 "cells": [
  {
   "cell_type": "code",
   "execution_count": 1,
   "id": "bb005cb0",
   "metadata": {},
   "outputs": [
    {
     "data": {
      "text/html": [
       "<style>.container { width:100% !important; }</style>"
      ],
      "text/plain": [
       "<IPython.core.display.HTML object>"
      ]
     },
     "metadata": {},
     "output_type": "display_data"
    }
   ],
   "source": [
    "from IPython.display import display, HTML\n",
    "display(HTML(\"<style>.container { width:100% !important; }</style>\"))"
   ]
  },
  {
   "cell_type": "markdown",
   "id": "972c1aa8",
   "metadata": {},
   "source": [
    "# DATA IMPORT"
   ]
  },
  {
   "cell_type": "markdown",
   "id": "f82f9696",
   "metadata": {},
   "source": [
    "## 1. WEB SCRAPPING"
   ]
  },
  {
   "cell_type": "code",
   "execution_count": 2,
   "id": "5411fd13",
   "metadata": {},
   "outputs": [],
   "source": [
    "# targetted web content from the pasge\n",
    "import requests\n",
    "import urllib.request\n",
    "import time\n",
    "from bs4 import BeautifulSoup"
   ]
  },
  {
   "cell_type": "code",
   "execution_count": 3,
   "id": "ed340848",
   "metadata": {},
   "outputs": [],
   "source": [
    "url = \"https://www.tees.ac.uk/sections/international/studentviewprofile.cfm?studentviewid=4512\""
   ]
  },
  {
   "cell_type": "code",
   "execution_count": 4,
   "id": "43f30aeb",
   "metadata": {},
   "outputs": [],
   "source": [
    "# sending requesr to the url\n",
    "\n",
    "respons = requests.get(url)"
   ]
  },
  {
   "cell_type": "code",
   "execution_count": 5,
   "id": "a5d169ad",
   "metadata": {},
   "outputs": [
    {
     "data": {
      "text/plain": [
       "<Response [200]>"
      ]
     },
     "execution_count": 5,
     "metadata": {},
     "output_type": "execute_result"
    }
   ],
   "source": [
    "respons"
   ]
  },
  {
   "cell_type": "code",
   "execution_count": 6,
   "id": "90604bf9",
   "metadata": {},
   "outputs": [],
   "source": [
    "# intialixe Parser\n",
    "# what is parser\n",
    "soup = BeautifulSoup(respons.text, \"html.parser\")"
   ]
  },
  {
   "cell_type": "code",
   "execution_count": 7,
   "id": "e1af80e2",
   "metadata": {},
   "outputs": [
    {
     "data": {
      "text/plain": [
       "\n",
       "<meta content=\"IE=edge\" http-equiv=\"X-UA-Compatible\"/>\n",
       "<script src=\"https://ajax.googleapis.com/ajax/libs/jquery/3.2.1/jquery.min.js\"></script>\n",
       "<!DOCTYPE html>\n",
       "\n",
       "<!-- HTML5 Mobile Boilerplate -->\n",
       "<!--[if IEMobile 7]><html class=\"no-js iem7\"><![endif]-->\n",
       "<!--[if (gt IEMobile 7)|!(IEMobile)]><!--><html class=\"no-js\" lang=\"en\" xmlns=\"http://www.w3.org/1999/xhtml\" xmlns:fb=\"http://www.facebook.com/2008/fbml\"><!--<![endif]-->\n",
       "<!-- HTML5 Boilerplate -->\n",
       "<!--[if lt IE 7]><html class=\"no-js lt-ie9 lt-ie8 lt-ie7\" lang=\"en\" xmlns=\"http://www.w3.org/1999/xhtml\" xmlns:fb=\"http://www.facebook.com/2008/fbml\"> <![endif]-->\n",
       "<!--[if (IE 7)&!(IEMobile)]><html class=\"no-js lt-ie9 lt-ie8\" lang=\"en\" xmlns=\"http://www.w3.org/1999/xhtml\" xmlns:fb=\"http://www.facebook.com/2008/fbml\"><![endif]-->\n",
       "<!--[if (IE 8)&!(IEMobile)]><html class=\"no-js lt-ie9\" lang=\"en\" xmlns=\"http://www.w3.org/1999/xhtml\" xmlns:fb=\"http://www.facebook.com/2008/fbml\"><![endif]-->\n",
       "<!--[if gt IE 8]><!--> <html class=\"no-js\" lang=\"en\" xmlns=\"http://www.w3.org/1999/xhtml\" xmlns:fb=\"http://www.facebook.com/2008/fbml\"><!--<![endif]-->\n",
       "<head>\n",
       "<meta charset=\"utf-8\"/>\n",
       "<meta content=\"IE=edge,chrome=1\" http-equiv=\"X-UA-Compatible\"/>\n",
       "<meta content=\"117920188366607\" property=\"fb:app_id\"/>\n",
       "<meta content=\"564870633\" property=\"fb:admins\"/>\n",
       "<title>Student views | International students | Teesside University</title>\n",
       "<meta content=\"Teesside has an amazing range of courses in exciting subjects such as forensics, computing, health, sport, media and design. We've invested over Â£270m in the campus, so our students have some of the most up-to-date facilities in the UK.\" name=\"description\"/>\n",
       "<meta content=\"Teesside has an amazing range of courses in exciting subjects such as forensics, computing, health, sport, media and design. We've invested over Â£270m in the campus, so our students have some of the most up-to-date facilities in the UK.\" http-equiv=\"description\"/>\n",
       "<meta content=\"undergraduate, courses, degree, bachelor of arts, ba, bachelor of science, bsc, bachelor of engineering, beng, bachelor of laws, llb, single honours, joint honours, combined honours, foundation degree, hnd, university certificate, ucas, international students, tariff points, english language tuition, fees, funding, scholarships, bursaries, international bursary, accommodation, exchanges, applied science, art, design, business, accounting, human resources, computer, animation, visualisation, computer games, computing, digital media, digital music, web, engineering, technology, english, history, forensics, crime scene investigation, health, social care, law, criminology, sociology, leisure, tourism, marketing, retailing, advertising, public relations, media, psychology, sport, exercise, professional placements, projects, careers, student support, studentsâ€™ union, lively night life, cultural, town campus, sport, recreation, centre creative technologies, institute digital innovation, media centre, film tv archive\" name=\"keywords\"/>\n",
       "<meta content=\"undergraduate, courses, degree, bachelor of arts, ba, bachelor of science, bsc, bachelor of engineering, beng, bachelor of laws, llb, single honours, joint honours, combined honours, foundation degree, hnd, university certificate, ucas, international students, tariff points, english language tuition, fees, funding, scholarships, bursaries, international bursary, accommodation, exchanges, applied science, art, design, business, accounting, human resources, computer, animation, visualisation, computer games, computing, digital media, digital music, web, engineering, technology, english, history, forensics, crime scene investigation, health, social care, law, criminology, sociology, leisure, tourism, marketing, retailing, advertising, public relations, media, psychology, sport, exercise, professional placements, projects, careers, student support, studentsâ€™ union, lively night life, cultural, town campus, sport, recreation, centre creative technologies, institute digital innovation, media centre, film tv archive\" http-equiv=\"keywords\"/>\n",
       "<meta content=\"https://www.tees.ac.uk/images/sections/common/template/meta_og.jpg\" property=\"og:image\">\n",
       "<meta content=\"True\" name=\"HandheldFriendly\"/>\n",
       "<meta content=\"320\" name=\"MobileOptimized\"/>\n",
       "<meta content=\"width=device-width, initial-scale=1.0, maximum-scale=1.0\" name=\"viewport\"/>\n",
       "<meta content=\"on\" http-equiv=\"cleartype\"/>\n",
       "<meta content=\"Education\" name=\"document-classification\"/>\n",
       "<meta content=\"Student views | International students | Teesside University\" name=\"title\"/>\n",
       "<meta content=\"EN-UK\" name=\"Content-Language\"/>\n",
       "<meta content=\"en-uk\" name=\"language\"/>\n",
       "<meta content=\"Teesside University\" name=\"author\"/>\n",
       "<meta content=\"2023 - Teesside University\" name=\"copyright\"/>\n",
       "<meta content=\"webadmin@tees.ac.uk\" name=\"reply-to\"/>\n",
       "<meta content=\"Copyrighted Work\" name=\"document-rights\"/>\n",
       "<meta content=\"General\" name=\"document-rating\"/>\n",
       "<meta content=\"13842999412\" property=\"fb:pages\">\n",
       "<meta content=\"329ac7950d632b8cd017fd0f815a28c2\" name=\"p:domain_verify\">\n",
       "<meta content=\"128v75du2zujcouair5sxdoerworj3\" name=\"facebook-domain-verification\">\n",
       "<meta content=\"INDEX,FOLLOW\" name=\"ROBOTS\"/>\n",
       "<script>(function(w,d,s,l,i){w[l]=w[l]||[];w[l].push({'gtm.start':\n",
       "new Date().getTime(),event:'gtm.js'});var f=d.getElementsByTagName(s)[0],\n",
       "j=d.createElement(s),dl=l!='dataLayer'?'&l='+l:'';j.async=true;j.src=\n",
       "'https://www.googletagmanager.com/gtm.js?id='+i+dl;f.parentNode.insertBefore(j,f);\n",
       "})(window,document,'script','dataLayer','GTM-5N7XJK');</script>\n",
       "<noscript><iframe height=\"0\" src=\"https://www.googletagmanager.com/ns.html?id=GTM-5N7XJK\" style=\"display:none;visibility:hidden\" width=\"0\"></iframe></noscript>\n",
       "<!-- End Google Tag Manager -->\n",
       "<script type=\"text/javascript\">var ssiSocialTrackingCode = '4f55afd8bd44e950';</script>\n",
       "<script src=\"https://socsi.in/js/socialTracking.js\" type=\"text/javascript\"></script>\n",
       "<link href=\"/favicon.ico\" rel=\"shortcut icon\"/>\n",
       "<link href=\"/favicon.png\" rel=\"icon\" type=\"image/x-icon\"/>\n",
       "<link href=\"/sections/news/rss.xml\" rel=\"alternate\" title=\"Teesside University News\" type=\"application/rss+xml\"/>\n",
       "<link href=\"/apple-touch-icon-114x114.png\" rel=\"apple-touch-icon\" sizes=\"114x114\"/>\n",
       "<link href=\"/apple-touch-icon-72x72.png\" rel=\"apple-touch-icon\" sizes=\"72x72\"/>\n",
       "<link href=\"/apple-touch-icon.png\" rel=\"apple-touch-icon\"/>\n",
       "<link crossorigin=\"anonymous\" href=\"https://pro.fontawesome.com/releases/v5.10.2/css/all.css\" integrity=\"sha384-XxNLWSzCxOe/CFcHcAiJAZ7LarLmw3f4975gOO6QkxvULbGGNDoSOTzItGUG++Q+\" rel=\"stylesheet\"/>\n",
       "<link href=\"//www.tees.ac.uk/css_v7/base.css\" media=\"screen\" rel=\"stylesheet\"/>\n",
       "<link href=\"//www.tees.ac.uk/css_v7/jquery_tabs.css\" media=\"screen\" rel=\"stylesheet\"/>\n",
       "<link href=\"//www.tees.ac.uk/css_v7/jquery.accordian.css\" media=\"screen\" rel=\"stylesheet\"/>\n",
       "<link href=\"//www.tees.ac.uk/css_v7/jquery.fancybox.min.css\" media=\"screen\" rel=\"stylesheet\"/>\n",
       "<link href=\"//www.tees.ac.uk/css_v7/layout-study.css\" media=\"screen\" rel=\"stylesheet\"/>\n",
       "<link href=\"//www.tees.ac.uk/css_v7/events.css\" media=\"screen\" rel=\"stylesheet\"/>\n",
       "<link href=\"//www.tees.ac.uk/css_v7/default_styles.css\" media=\"screen\" rel=\"stylesheet\"/>\n",
       "<link href=\"//www.tees.ac.uk/css_v7/openDaysNew.css\" media=\"screen\" rel=\"stylesheet\"/>\n",
       "<link href=\"//www.tees.ac.uk/css_v7/underpost.css\" media=\"screen\" rel=\"stylesheet\"/>\n",
       "<link href=\"//www.tees.ac.uk/css_v7/jquery.showhide.css\" media=\"screen\" rel=\"stylesheet\" type=\"text/css\"/>\n",
       "<!-- Begin Inspectlet Embed Code -->\n",
       "<script id=\"inspectletjs\" type=\"text/javascript\">\n",
       "        window.__insp = window.__insp || [];\n",
       "        __insp.push(['wid', 284458356]);\n",
       "        (function() {\n",
       "        function ldinsp(){if(typeof window.__inspld != \"undefined\") return; window.__inspld = 1; var insp = document.createElement('script'); insp.type = 'text/javascript'; insp.async = true; insp.id = \"inspsync\"; insp.src = ('https:' == document.location.protocol ? 'https' : 'http') + '://cdn.inspectlet.com/inspectlet.js'; var x = document.getElementsByTagName('script')[0]; x.parentNode.insertBefore(insp, x); };\n",
       "        setTimeout(ldinsp, 500); document.readyState != \"complete\" ? (window.attachEvent ? window.attachEvent('onload', ldinsp) : window.addEventListener('load', ldinsp, false)) : ldinsp();\n",
       "        })();\n",
       "        </script>\n",
       "<!-- End Inspectlet Embed Code -->\n",
       "<script language=\"JavaScript\" src=\"/javaScript_v7/modernizr.js\"></script>\n",
       "<!--iOS -->\n",
       "<!-- <meta name=\"apple-mobile-web-app-capable\" content=\"yes\"> -->\n",
       "<!-- <meta name=\"apple-mobile-web-app-status-bar-style\" content=\"black\"> -->\n",
       "<!-- <link rel=\"apple-touch-startup-image\" href=\"img/splash.png\"> -->\n",
       "<!-- <script>(function() {var p,l,r=window.devicePixelRatio;if(navigator.platform===\"iPad\") {p=r===2?\"img/startup/startup-tablet-portrait-retina.png\":\"img/startup/startup-tablet-portrait.png\";l=r===2?\"img/startup/startup-tablet-landscape-retina.png\":\"img/startup/startup-tablet-landscape.png\";document.write('<link rel=\"apple-touch-startup-image\" href=\"'+l+'\" media=\"screen and (orientation: landscape)\" ><link rel=\"apple-touch-startup-image\" href=\"'+p+'\" media=\"screen and (orientation: portrait)\" >');\n",
       "\t}\n",
       "\telse {p=r===2?\"img/startup/startup-retina.png\":\"img/startup/startup.png\";document.write('<link rel=\"apple-touch-startup-image\" href=\"'+p+'\" >');\n",
       "\t}})()</script> -->\n",
       "<!--Microsoft -->\n",
       "<!-- Prevents links from opening in mobile Safari -->\n",
       "<!-- <script>(function(a,b,c) {if(c in b&&b[c]) {var d,e=a.location,f=/^(a|html)$/i;a.addEventListener(\"click\",function(a) {d=a.target;while(!f.test(d.nodeName))d=d.parentNode;\"href\"in d&&(d.href.indexOf(\"http\")||~d.href.indexOf(e.host))&&(a.preventDefault(),e.href=d.href)\n",
       "\t},!1)}})(document,window.navigator,\"standalone\")</script> -->\n",
       "<link href=\"//cdnjs.cloudflare.com/ajax/libs/cookieconsent2/3.1.0/cookieconsent.min.css\" rel=\"stylesheet\" type=\"text/css\">\n",
       "<script src=\"//www.tees.ac.uk/javaScript_v7/cookies.js\"></script>\n",
       "<script>\n",
       "\twindow.addEventListener(\"load\", function(){\n",
       "\twindow.cookieconsent.initialise({\n",
       "\t  \"palette\": {\n",
       "\t\t\"popup\": {\n",
       "\t\t  \"background\": \"#f3f3f3\",\n",
       "\t\t  \"text\": \"#333333\"\n",
       "\t\t},\n",
       "\t\t\"button\": {\n",
       "\t\t  \"background\": \"#0caa4b\"\n",
       "\t\t}\n",
       "\t  },\n",
       "\t  \"position\": \"bottom-left\",\n",
       "\t  \"theme\": \"classic\",\n",
       "\t  \"content\": {\n",
       "\t\t\"message\": \"We use cookies to improve your experience on our site. Some of the cookies we use are essential for our site to work, others assist us with our marketing. You can use your browser to change your cookie settings, otherwise, we'll assume you're ok to continue. \",\n",
       "\t\t\"dismiss\": \"I accept\",\n",
       "\t\t\"allow\": \"I acc\",\n",
       "\t\t\"link\": \"How we use cookies\",\n",
       "\t\t\"href\": \"https://www.tees.ac.uk/sections/about/public_information/copyright.cfm?display=cookies\"\n",
       "\t  }\n",
       "\t\n",
       "\t})});\n",
       "\t\t\n",
       "\t</script>\n",
       "<script>\n",
       "\n",
       "\t\t\t$(\"a[href^='#']\").click(function(e) {\n",
       "\t\t\t\te.preventDefault();\n",
       "\t\t\t\tvar position = $($(this).attr(\"href\")).offset().top;\n",
       "\t\t\t\t$(\"body, html\").animate({\n",
       "\t\t\t\t\tscrollTop: position\n",
       "\t\t\t\t\t} /* speed */ );\n",
       "\t\t\t});\n",
       "\n",
       "\t\t</script>\n",
       "<!-- AddEvent script -->\n",
       "<script async=\"\" defer=\"\" src=\"https://cdn.addevent.com/libs/atc/1.6.1/atc.min.js\" type=\"text/javascript\"></script>\n",
       "</link></meta></meta></meta></meta></head>\n",
       "<body class=\"homepage\" id=\"top\">\n",
       "<a accesskey=\"s\" class=\"skip-main\" href=\"#main\">Skip to main content</a>\n",
       "<!-- 03 - The Menu -->\n",
       "<header class=\"clearfix\" role=\"banner\">\n",
       "<div class=\"header_wrapper\">\n",
       "<!--[if lt IE 9]>\n",
       "\t\t<section id=\"alert-container\">\n",
       "\t\t\tThis site is optimised for modern web browsers, and does not fully support your version of Internet explorer\n",
       "\t\t</section>\n",
       "\t\t<![endif]-->\n",
       "<div class=\"inner\">\n",
       "<div class=\"logo\">\n",
       "<p><a href=\"https://www.tees.ac.uk/\">Teesside University</a></p>\n",
       "</div>\n",
       "<a class=\"search_toggle search_toggle_mobile visible-xs float_right\" href=\"#\" id=\"searchtoggl\" title=\"search\"><i class=\"fa fa-search fa-lg\"></i><span class=\"visually-hidden\">Search</span></a>\n",
       "<div class=\"clearfix\"></div>\n",
       "<div class=\"reciteme reciteme-large\" id=\"reciteme\" role=\"button\" tabindex=\"0\"><i class=\"far fa-universal-access\"></i><span> Accessibility tools<span></span></span></div>\n",
       "<nav id=\"headerlinks\">\n",
       "<ul id=\"primary-nav\">\n",
       "<li><a accesskey=\"1\" href=\"https://www.tees.ac.uk/\" tabindex=\"0\" target=\"_top\" title=\"Home\">Home</a></li>\n",
       "<li><a accesskey=\"2\" href=\"https://www.tees.ac.uk/sections/stud/\" tabindex=\"0\" target=\"_top\" title=\"students\">Current students</a></li>\n",
       "<li><a accesskey=\"3\" href=\"https://www.tees.ac.uk/sections/staff/\" tabindex=\"0\" target=\"_top\" title=\"Staff\">Staff</a></li>\n",
       "<li>\n",
       "<a accesskey=\"c\" href=\"https://www.tees.ac.uk/sections/about/visiting/travel.cfm\" target=\"_top\" title=\"Contact us \">Contact us</a></li>\n",
       "<li class=\"pay\"><a accesskey=\"4\" href=\"https://www.tees.ac.uk/sections/about/pay.cfm\">Pay online</a></li>\n",
       "<li class=\"last\">\n",
       "<a accesskey=\"0\" href=\"https://www.tees.ac.uk/sections/common/accessibility.cfm\" target=\"_top\" title=\"Accessibility \">Accessibility</a></li>\n",
       "</ul>\n",
       "</nav>\n",
       "<a class=\"menu-button\" href=\"#\"><i class=\"fa fa-bars fa-lg\"></i></a>\n",
       "<nav id=\"nav\" role=\"navigation\">\n",
       "<ul id=\"mainmenu\">\n",
       "<li class=\"top-level\">\n",
       "<a accesskey=\"5\" class=\"study active taphover\" href=\"https://www.tees.ac.uk/sections/coursesearch/\" target=\"_top\"><span>Study here</span></a>\n",
       "<div class=\"submenu pos1\">\n",
       "<ul>\n",
       "<li>\n",
       "<img alt=\"Study at Teesside University\" src=\"https://www.tees.ac.uk/Images/sections/common/template/menu_study.jpg\"/>\n",
       "<ul>\n",
       "<li><a href=\"https://www.tees.ac.uk/sections/fulltime/index.cfm\">Undergraduate study</a></li>\n",
       "<li><a href=\"https://www.tees.ac.uk/sections/postgrad/index.cfm\">Postgraduate study</a></li>\n",
       "<li><a href=\"https://www.tees.ac.uk/sections/parttime/index.cfm\">Short courses &amp; CPD</a></li>\n",
       "<li><a href=\"https://www.tees.ac.uk/sections/onlinelearning/index.cfm\">Online learning</a></li>\n",
       "<li><a href=\"https://www.tees.ac.uk/sections/international/index.cfm\">International students</a></li>\n",
       "<li><a href=\"https://www.tees.ac.uk/sections/fulltime/howtoapply.cfm\">Applying to university</a></li>\n",
       "<li><a href=\"https://www.tees.ac.uk/sections/parents/index.cfm\">Parents and carers</a></li>\n",
       "<li><a href=\"https://www.tees.ac.uk/sections/schoolscolleges/index.cfm\">Teachers and advisers</a></li>\n",
       "</ul>\n",
       "<ul class=\"cta\">\n",
       "<li class=\"search\"><a href=\"https://www.tees.ac.uk/sections/coursesearch/\">Find a course</a></li>\n",
       "<li><a href=\"https://www.tees.ac.uk/enquiry/\">Order a prospectus</a></li>\n",
       "<li class=\"calendar\"><a href=\"https://www.tees.ac.uk/sections/whats_on/opendays.cfm\">Book an open day</a></li>\n",
       "</ul>\n",
       "<div class=\"clearfix\"> </div>\n",
       "<li>\n",
       "</li></li></ul>\n",
       "</div>\n",
       "</li>\n",
       "<li class=\"top-level\">\n",
       "<a accesskey=\"6\" class=\"business taphover\" href=\"https://www.tees.ac.uk/sections/business/\" target=\"_top\"><span>Business</span></a>\n",
       "<div class=\"submenu pos2\">\n",
       "<ul class=\"business\">\n",
       "<li>\n",
       "<img alt=\"Business\" src=\"https://www.tees.ac.uk/Images/sections/common/template/menu_business.jpg\"/>\n",
       "<ul>\n",
       "<li><a href=\"https://www.tees.ac.uk/sections/business/consultancy.cfm\">Consultancy</a></li>\n",
       "<li><a href=\"https://www.tees.ac.uk/sections/business/training.cfm\">Training</a></li>\n",
       "<li><a href=\"https://www.tees.ac.uk/sections/degree_apprenticeships/index.cfm\">Professional Apprenticeships</a></li>\n",
       "<li><a href=\"https://www.tees.ac.uk/sections/business/recruit_talent.cfm\">Recruiting talent</a></li>\n",
       "<li><a href=\"https://www.tees.ac.uk/sections/business/conference_facilities.cfm\">Conference facilities</a></li>\n",
       "<li><a href=\"https://www.tees.ac.uk/sections/business/who.cfm\">Who we work with</a></li>\n",
       "</ul>\n",
       "<ul class=\"cta\">\n",
       "<li class=\"contact\"><a href=\"https://www.tees.ac.uk/sections/business/contact.cfm\">Contact us</a></li>\n",
       "<li class=\"news\"><a href=\"https://www.tees.ac.uk/sections/business/news.cfm\">News</a></li>\n",
       "<li class=\"calendar\"><a href=\"https://www.tees.ac.uk/sections/business/business_events.cfm\">Events</a></li>\n",
       "</ul>\n",
       "<div class=\"clearfix\"> </div>\n",
       "<li>\n",
       "</li></li></ul>\n",
       "</div>\n",
       "</li>\n",
       "<li class=\"top-level\">\n",
       "<a accesskey=\"7\" class=\"research taphover\" href=\"https://www.tees.ac.uk/sections/research/\" target=\"_top\"><span>Research</span></a>\n",
       "<div class=\"submenu pos3\">\n",
       "<ul>\n",
       "<li>\n",
       "<img alt=\"Research\" src=\"https://www.tees.ac.uk/Images/sections/common/template/menu_research.jpg\"/>\n",
       "<ul>\n",
       "<li><a href=\"https://www.tees.ac.uk/sections/research/research_strategy.cfm\">Strategy and policy</a></li>\n",
       "<li><a href=\"https://www.tees.ac.uk/sections/research/challenges.cfm\">Grand challenges</a></li>\n",
       "<li><a href=\"https://www.tees.ac.uk/sections/research/research_centres.cfm\">Research centres</a></li>\n",
       "<li><a href=\"https://www.tees.ac.uk/sections/research/impact.cfm\">Impact</a></li>\n",
       "<li><a href=\"https://www.tees.ac.uk/sections/research/students.cfm\">Postgraduate research</a></li>\n",
       "<li><a href=\"https://www.tees.ac.uk/sections/research/support.cfm\">Research support</a></li>\n",
       "</ul>\n",
       "<ul class=\"cta\">\n",
       "<li class=\"contact\"><a href=\"https://www.tees.ac.uk/sections/research/support_innovation.cfm\">Contact us</a></li>\n",
       "<li class=\"news\"><a href=\"https://www.tees.ac.uk/sections/research/news.cfm\">News</a></li>\n",
       "<li class=\"calendar\"><a href=\"http://research.tees.ac.uk\" target=\"_blank\">Research portal</a></li>\n",
       "</ul>\n",
       "<div class=\"clearfix\"> </div>\n",
       "<li>\n",
       "</li></li></ul>\n",
       "</div>\n",
       "</li>\n",
       "<li class=\"top-level\">\n",
       "<a accesskey=\"8\" class=\"about taphover\" href=\"https://www.tees.ac.uk/sections/about/\" target=\"_top\"><span>About</span></a>\n",
       "<div class=\"submenu pos4\">\n",
       "<ul class=\"about\">\n",
       "<li>\n",
       "<img alt=\"About Teesside University\" src=\"https://www.tees.ac.uk/Images/sections/common/template/menu_about2.jpg\"/>\n",
       "<ul>\n",
       "<li><a href=\"https://www.tees.ac.uk/sections/about/\">About us</a></li>\n",
       "<li><a href=\"https://www.tees.ac.uk/sections/about/university/achievements.cfm\">Achievements</a></li>\n",
       "<li><a href=\"https://www.tees.ac.uk/sections/about/university/schools_departments.cfm\">Schools &amp; departments</a></li>\n",
       "<li><a href=\"https://www.tees.ac.uk/sections/about/visiting/middlesbrough_region.cfm\">Middlesbrough &amp; Tees Valley</a></li>\n",
       "<li><a href=\"https://www.tees.ac.uk/sections/about/public_information/factsandfigures.cfm\">University statistics</a></li>\n",
       "</ul>\n",
       "<ul class=\"cta\">\n",
       "<li class=\"contact\"><a href=\"https://www.tees.ac.uk/sections/about/visiting/travel.cfm\">Contact &amp; find us</a></li>\n",
       "<li class=\"news\"><a href=\"https://www.tees.ac.uk/sections/about/public_information/mission.cfm\">Mission &amp; vision</a></li>\n",
       "<li><a href=\"https://www.tees.ac.uk/sections/jobs/\">Job vacancies</a></li>\n",
       "</ul>\n",
       "<div class=\"clearfix\"> </div>\n",
       "<li>\n",
       "</li></li></ul>\n",
       "</div>\n",
       "</li>\n",
       "<li class=\"top-level\">\n",
       "<a accesskey=\"9\" class=\"alumni taphover\" href=\"https://www.tees.ac.uk/sections/alumni\" target=\"_top\"><span>Alumni</span></a>\n",
       "<div class=\"submenu pos5\">\n",
       "<ul class=\"alumni\">\n",
       "<li>\n",
       "<img alt=\"Alumni\" src=\"https://www.tees.ac.uk/Images/sections/common/template/menu_alumni.jpg\"/>\n",
       "<ul>\n",
       "<li><a href=\"https://www.tees.ac.uk/sections/alumni/stay_connected.cfm\">Stay connected</a></li>\n",
       "<li><a href=\"https://www.tees.ac.uk/sections/alumni/services.cfm\">Alumni services</a></li>\n",
       "<li><a href=\"https://www.tees.ac.uk/sections/alumni/hon_grads.cfm\">Honorary graduates</a></li>\n",
       "<li><a href=\"https://www.tees.ac.uk/sections/alumni/scholarships.cfm\">Scholarships</a></li>\n",
       "<li><a href=\"https://www.tees.ac.uk/sections/alumni/grad_quotes.cfm\">Alumni say</a></li>\n",
       "</ul>\n",
       "<ul class=\"cta\">\n",
       "<li class=\"uni\"><a href=\"https://www.tees.ac.uk/sections/alumni/welcome.cfm\">Join our Alumni</a></li>\n",
       "<li class=\"news\"><a href=\"https://www.tees.ac.uk/sections/alumni/news.cfm\">News</a></li>\n",
       "<li class=\"calendar\"><a href=\"https://www.tees.ac.uk/sections/alumni/events.cfm\">Events</a></li>\n",
       "</ul>\n",
       "<div class=\"clearfix\"> </div>\n",
       "<li>\n",
       "</li></li></ul>\n",
       "</div>\n",
       "</li>\n",
       "<li class=\"top-level searchlist\"><a href=\"#\" id=\"searchtoggl\" title=\"search\"><i class=\"fa fa-search fa-lg\"></i><span class=\"visually-hidden\">Search</span></a></li>\n",
       "</ul>\n",
       "<ul class=\"mobile\">\n",
       "<li class=\"top-level reciteme reciteme-small\"><i class=\"far fa-universal-access\"></i> Accessibility tools</li>\n",
       "<li class=\"top-level\"><a accesskey=\"2\" href=\"https://www.tees.ac.uk/sections/stud/\" target=\"_top\">Students</a></li>\n",
       "<li class=\"top-level\"><a accesskey=\"3\" href=\"https://www.tees.ac.uk/sections/staff/\" target=\"_top\">Staff</a></li>\n",
       "<li class=\"top-level\"><a href=\"https://www.tees.ac.uk/sections/about/university/schools_departments.cfm\" target=\"_top\">Schools</a></li>\n",
       "<li class=\"top-level\"><a href=\"https://www.tees.ac.uk/sections/jobs/\" target=\"_top\">Jobs</a></li>\n",
       "<li class=\"top-level\"><a accesskey=\"4\" href=\"https://www.tees.ac.uk/sections/about/pay.cfm\" target=\"_top\">Pay online</a></li>\n",
       "<li class=\"top-level\"><a href=\"https://www.tees.ac.uk/sections/news/\" target=\"_top\">News</a></li>\n",
       "<li class=\"top-level\"><a accesskey=\"c\" href=\"https://www.tees.ac.uk/sections/about/contacts_general.cfm\" target=\"_top\">Contact us</a></li>\n",
       "</ul>\n",
       "</nav>\n",
       "</div>\n",
       "<div class=\"clearfix\" id=\"searchbar\">\n",
       "<div class=\"inner\">\n",
       "<form action=\"https://www.tees.ac.uk/special/coursesearch_forward.cfm\" id=\"searchbox_010401732483047907418:f3xgqxzthsg searchform\" method=\"post\">\n",
       "<div class=\"select-style\">\n",
       "<select id=\"searchtype\" name=\"searchtype\">\n",
       "<option value=\"site\">Site search</option>\n",
       "<option value=\"courses\">Course search</option>\n",
       "</select>\n",
       "</div>\n",
       "<input enableautocomplete=\"no\" id=\"googlesearch\" name=\"q\" placeholder=\"Search...\" type=\"search\"/>\n",
       "<button class=\"fa fa-search fa-2x\" id=\"searchsubmit\" type=\"submit\"></button>\n",
       "</form>\n",
       "</div>\n",
       "</div>\n",
       "</div>\n",
       "</header>\n",
       "<div id=\"main\"></div>\n",
       "<section class=\"intro\">\n",
       "<div class=\"section_wrapper\">\n",
       "<a class=\"nav-toggle\" href=\"#\">International students</a>\n",
       "<nav class=\"cmn-tile-nav\" id=\"sectionmenu\">\n",
       "<ul class=\"clearfix\">\n",
       "<li><a class=\"sectiontitle\" href=\"https://www.tees.ac.uk/sections/international/index.cfm\">International students</a></li>\n",
       "<li><a class=\"has-sub taphover\" href=\"https://www.tees.ac.uk/sections/international\" target=\"_top\">Teesside University</a>\n",
       "<ul>\n",
       "<li><a href=\"https://www.tees.ac.uk/international_courses/index.cfm\" target=\"_top\">Courses</a></li>\n",
       "<li><a href=\"https://www.tees.ac.uk/sections/international/isb2022.cfm\" target=\"_top\">Why Teesside</a></li>\n",
       "<li><a href=\"https://www.tees.ac.uk/sections/international/staff.cfm\" target=\"_top\">Staff</a></li>\n",
       "<li><a href=\"https://www.tees.ac.uk//sections/international/country.cfm\" target=\"_top\">Your country</a></li>\n",
       "<li><a href=\"https://www.tees.ac.uk/alumni/\" target=\"_top\">Alumni</a></li>\n",
       "<li><a href=\"https://www.tees.ac.uk/sections/international/careers.cfm\" target=\"_top\">Careers</a></li>\n",
       "<li><a href=\"https://www.tees.ac.uk//sections/international/news.cfm\" target=\"_top\">Latest news</a></li>\n",
       "<li><a href=\"https://www.tees.ac.uk/sections/international/fairs.cfm\" target=\"_top\">Events</a></li>\n",
       "<li><a href=\"https://www.tees.ac.uk/sections/international/facilities.cfm\" target=\"_top\">Campus facilities</a></li>\n",
       "<li><a href=\"https://www.tees.ac.uk/sections/about/visiting/campustour.cfm\" target=\"_top\">Campus tour</a></li>\n",
       "<li><a href=\"https://www.tees.ac.uk/sections/international/map.cfm\" target=\"_top\">Location map</a></li>\n",
       "<li><a href=\"https://www.tees.ac.uk/sections/international/team.cfm\" target=\"_top\">Meet the team</a></li>\n",
       "<li><a href=\"https://www.tees.ac.uk/sections/international/contact.cfm\" target=\"_top\">Contact us</a></li>\n",
       "</ul>\n",
       "</li>\n",
       "<li><a class=\"has-sub taphover\" href=\"https://www.tees.ac.uk/sections/international/english_language_centre.cfm\" target=\"_top\">English language</a>\n",
       "<ul>\n",
       "<li><a href=\"https://www.tees.ac.uk/sections/international/english.cfm\" target=\"_top\">Admissions and testing</a></li>\n",
       "<li><a href=\"https://www.tees.ac.uk/sections/international/presessional.cfm\" target=\"_top\">Pre-sessional English</a></li>\n",
       "<li><a href=\"https://www.tees.ac.uk/sections/international/insessional.cfm\" target=\"_top\">In-sessional English</a></li>\n",
       "<li><a href=\"https://www.tees.ac.uk/sections/international/immersion_programme.cfm\" target=\"_top\">UK HE Immersion Programme</a></li>\n",
       "<li><a href=\"https://www.tees.ac.uk/parttime_courses/education_&amp;_youth/certificate_cambridge_certificate_in_teaching_english_to_speakers_of_other_languages_(celta).cfm\" target=\"_top\">CELTA</a></li>\n",
       "</ul>\n",
       "</li>\n",
       "<li><a class=\"has-sub taphover\" href=\"https://www.tees.ac.uk/sections/international\" target=\"_top\">Life at Teesside</a>\n",
       "<ul>\n",
       "<li><a href=\"https://www.tees.ac.uk/sections/international/accommodation.cfm\" target=\"_top\">Accommodation</a></li>\n",
       "<li><a href=\"https://www.tees.ac.uk/sections/international/studentlife.cfm\" target=\"_top\">Life on campus</a></li>\n",
       "<li><a href=\"https://www.tees.ac.uk/sections/about/visiting/middlesbrough_region.cfm\" target=\"_top\">Middlesbrough and the region</a></li>\n",
       "<li><a href=\"https://www.tees.ac.uk/sections/international/travelling.cfm\" target=\"_top\">Travel</a></li>\n",
       "<li><a href=\"https://www.tees.ac.uk/sections/international/meet.cfm\" target=\"_top\">Meet and greet</a></li>\n",
       "<li><a href=\"https://www.tees.ac.uk/sections/international/orientation_advice.cfm\" target=\"_top\">Student support and advice</a></li>\n",
       "<li><a href=\"https://www.tees.ac.uk/sections/international/summer_abroad.cfm\" target=\"_top\">Summer abroad opportunities</a></li>\n",
       "<li><a href=\"https://www.tees.ac.uk/sections/international/isbresponse.cfm\" target=\"_top\">International Student Barometer Response</a></li>\n",
       "</ul>\n",
       "</li>\n",
       "<li><a class=\"has-sub taphover\" href=\"https://www.tees.ac.uk/sections/international\" target=\"_top\">Fees/scholarships</a>\n",
       "<ul>\n",
       "<li><a href=\"https://www.tees.ac.uk/sections/international/fees.cfm\" target=\"_top\">Fees </a></li>\n",
       "<li><a href=\"https://www.tees.ac.uk/sections/international/scholarships.cfm\" target=\"_top\">Scholarships</a></li>\n",
       "<li><a href=\"https://www.tees.ac.uk/sections/international/payment.cfm\" target=\"_top\">Payment options</a></li>\n",
       "</ul>\n",
       "</li>\n",
       "<li><a class=\"has-sub taphover\" href=\"https://www.tees.ac.uk/sections/international\" target=\"_top\">Applying to arriving</a>\n",
       "<ul>\n",
       "<li><a href=\"https://www.tees.ac.uk/sections/international/applying_to_arriving_overview.cfm\" target=\"_top\">Applying to arriving overview</a></li>\n",
       "<li><a href=\"https://www.tees.ac.uk/sections/international/howtoapply.cfm\" target=\"_top\">Undergraduate</a></li>\n",
       "<li><a href=\"https://www.tees.ac.uk/sections/international/howtoapplypg.cfm\" target=\"_top\">Postgraduate (Master's)</a></li>\n",
       "<li><a href=\"https://www.tees.ac.uk/sections/research/students_prospective.cfm\" target=\"_top\">Research degrees</a></li>\n",
       "<li><a href=\"https://www.tees.ac.uk/sections/international/application_deadlines.cfm\" target=\"_top\">Key deadlines</a></li>\n",
       "<li><a href=\"https://www.tees.ac.uk/sections/international/course_status.cfm\" target=\"_top\">Course status definitions</a></li>\n",
       "<li><a href=\"https://www.tees.ac.uk/sections/international/qualification_verification.cfm\" target=\"_top\">Qualification verification</a></li>\n",
       "<li><a href=\"https://www.tees.ac.uk/sections/international/fees_paying.cfm\" target=\"_top\">Paying</a></li>\n",
       "<li><a href=\"https://www.tees.ac.uk/sections/international/immigration.cfm\" target=\"_top\">Immigration</a></li>\n",
       "<li><a href=\"https://www.tees.ac.uk/sections/stud/international_graduate_route.cfm\" target=\"_top\">Graduate route</a></li>\n",
       "<li><a href=\"https://www.tees.ac.uk/sections/international/already.cfm\" target=\"_top\">Already in the UK</a></li>\n",
       "<li><a href=\"https://www.tees.ac.uk/sections/international/credibility.cfm\" target=\"_top\">Credibility interview</a></li>\n",
       "<li><a href=\"https://www.tees.ac.uk/sections/international/outside.cfm\" target=\"_top\">From outside the UK</a></li>\n",
       "<li><a href=\"https://www.tees.ac.uk/sections/international/prepare.cfm\" target=\"_top\">Prepare for arrival</a></li>\n",
       "<li><a href=\"https://www.tees.ac.uk/sections/international/arrive.cfm\" target=\"_top\">When you arrive</a></li>\n",
       "<li><a href=\"https://www.tees.ac.uk/sections/international/here.cfm\" target=\"_top\">While you are here</a></li>\n",
       "<li><a href=\"https://www.tees.ac.uk/sections/international/orientation_programme.cfm\" target=\"_top\">Orientation Programme</a></li>\n",
       "<li><a href=\"https://www.tees.ac.uk/sections/international/studentvisacompliance.cfm\" target=\"_top\">UKVI Sponsored Student Compliance Policy</a></li>\n",
       "</ul>\n",
       "</li>\n",
       "</ul>\n",
       "</nav>\n",
       "</div>\n",
       "</section>\n",
       "<section class=\"pagecontent pagetextwrap\">\n",
       "<div class=\"section_wrapper pagetext recruitment\">\n",
       "<div class=\"section_wrapper\">\n",
       "<div class=\"sixteen columns\">\n",
       "<ul class=\"inlinelist breadcrumb\">\n",
       "<li id=\"bc1\">\n",
       "<a href=\"https://www.tees.ac.uk/\" title=\"Home\">Home</a>\n",
       "\t\t\t\t›\n",
       "\t\t\t\t\n",
       "\t\t\t</li>\n",
       "<li id=\"bc2\">\n",
       "<a href=\"/sections/international/\" title=\"International students\">International students</a>\n",
       "\t\t\t\t›\n",
       "\t\t\t\t\n",
       "\t\t\t</li>\n",
       "<li id=\"bc3\">\n",
       "\t\t\t\tStudent views \n",
       "\t\t\t</li>\n",
       "</ul>\n",
       "</div>\n",
       "</div>\n",
       "<div class=\"eleven arrow columns alpha\">\n",
       "<h1>Our students</h1>\n",
       "<script type=\"text/javascript\">\n",
       "\t\t\tdataLayer.push({'event':'GAevent', 'eventCategory':'Studentprofile', 'eventAction':'Postgraduate', 'eventLabel':'Peace Chima: MSc Public Health'});\n",
       "\t</script>\n",
       "<div class=\"container-medium profile-container\">\n",
       "<div class=\"row\">\n",
       "<div class=\"row_cell row_cell--2 nohover\">\n",
       "<h2>Peace Chima</h2>\n",
       "<strong><div class=\"circleIconSmall\"><i class=\"fa fa-bookmark\"></i></div>MSc Public Health</strong><br/>\n",
       "<p><strong>Peace's time at Teesside has led to her job as a Primary Care Physician.</strong></p>\n",
       "<div class=\"quote\">\n",
       "<blockquote>\n",
       "<p> The classes inspired me to study and helped to boost my confidence. </p>\n",
       "</blockquote>\n",
       "</div>\n",
       "</div>\n",
       "<div class=\"row_cell nohover\">\n",
       "<img alt=\"Peace Chima\" border=\"0\" src=\"https://www.tees.ac.uk/Images/schools/views/profile/4512.jpg\"/>\n",
       "</div>\n",
       "</div>\n",
       "</div>\n",
       "<div class=\"container-small profile-container\">\n",
       "<br>\n",
       "<h3>Why Teesside?</h3>\n",
       "<p> After completing my Bachelor of Medicine and Bachelor of Surgery (MBBS) degree in Nigeria, I worked in specialist care. However, I knew I had a flair for public health and I was interested in pursuing a master’s degree in the field. I searched for Universities that offered the course, and I was particularly interested in studying in the UK because I wanted a different learning experience to what I was used to.<br class=\"small\"/><br class=\"small\"/>I made enquiries with some Teesside alumni back in Nigeria and they gave positive reviews of their time in Middlesbrough. I was so encouraged by these reviews that I decided to go for it.<br class=\"small\"/> </p>\n",
       "<h3>What was your course like?</h3>\n",
       "<p> The best thing about my course was conducting my final research. It was eye-opening and revealed some of my strengths. I had a supervisor who was helpful throughout the process and this really enabled me to progress with the research.<br class=\"small\"/><br class=\"small\"/>The relaxed environment and atmosphere really helped me to make friends with my classmates, who came from all around the world, and this was helpful for me being away from home. It was great meeting new people, learning with them and also having fun.<br class=\"small\"/><br class=\"small\"/>The classes inspired me to study and helped to boost my confidence. Even now that I’m out of the University system, I find that I still use the knowledge and skills learned during the course for my medical practice. I was able to develop life skills such as critical-thinking.<br class=\"small\"/> </p>\n",
       "<h3>What was your social life like?</h3>\n",
       "<p> I had a lot of fun at Teesside University. From the welcome event for International students, to the time spent at the Students' Union socialising, there was a wide array of activities to choose from. I also enjoyed watching football matches at the Riverside Stadium and having nights out at restaurants in the town. </p>\n",
       "<h3>What have you been doing since graduation?</h3>\n",
       "<p> Since graduation, I have worked as a freelancer in health research analysis and I’m now working as a Primary Care Physician at Quickcare Clinic in Lagos, Nigeria. My time at Teesside University definitely helped me to get closer to my goals. </p>\n",
       "<div class=\"clearfix\"></div>\n",
       "</br></div>\n",
       "</div>\n",
       "<div class=\"one columns clearfix alpha\">\n",
       " \n",
       "</div>\n",
       "<div class=\"four columns omega sidebar\">\n",
       "<div class=\"postbox green_border\">\n",
       "<a href=\"https://www.tees.ac.uk/international_courses/index.cfm\">\n",
       "<img alt=\"programmes for international students\" src=\"https://www.tees.ac.uk/images/sections/international/template_responsive/ads/programmes2016.jpg\"/></a>\n",
       "<div class=\"postboxcontent\" style=\"border:none;\">\n",
       "<h3>\n",
       "<a href=\"https://www.tees.ac.uk/international_courses/index.cfm\" title=\"Programme search\">\n",
       "                      Programme search</a></h3>\n",
       "<p>Search courses starting September and January</p>\n",
       "</div>\n",
       "</div>\n",
       "<div class=\"postbox peach_border\">\n",
       "<a href=\"https://www.tees.ac.uk/sections/international/country.cfm\">\n",
       "<img alt=\"your country\" src=\"https://www.tees.ac.uk/images/sections/international/template_responsive/ads/country2016.jpg\"/></a>\n",
       "<div class=\"postboxcontent\" style=\"border:none;\">\n",
       "<h3>\n",
       "<a href=\"https://www.tees.ac.uk/sections/international/country.cfm\" title=\"Your country\">\n",
       "                      \t\tYour country</a></h3>\n",
       "<p>Get information specific to your country.</p>\n",
       "<form action=\"https://www.tees.ac.uk/sections/international/country_details.cfm\" method=\"post\">\n",
       "<select id=\"country\" name=\"country\" onchange=\"if (this.value) window.location.href=this.value\">\n",
       "<option value=\"any\">\n",
       "\t\t        \n",
       "\t\t        Choose\n",
       "\t\t        \n",
       "\t\t    </option>\n",
       "<option value=\"https://www.tees.ac.uk/sections/international/country_details.cfm?country_id=128\">Afghanistan</option>\n",
       "<option value=\"https://www.tees.ac.uk/sections/international/country_details.cfm?country_id=58\">Angola</option>\n",
       "<option value=\"https://www.tees.ac.uk/sections/international/country_details.cfm?country_id=59\">Argentina</option>\n",
       "<option value=\"https://www.tees.ac.uk/sections/international/country_details.cfm?country_id=39\">Australia</option>\n",
       "<option value=\"https://www.tees.ac.uk/sections/international/country_details.cfm?country_id=60\">Austria</option>\n",
       "<option value=\"https://www.tees.ac.uk/sections/international/country_details.cfm?country_id=61\">Azerbaijan</option>\n",
       "<option value=\"https://www.tees.ac.uk/sections/international/country_details.cfm?country_id=12\">Bahrain</option>\n",
       "<option value=\"https://www.tees.ac.uk/sections/international/country_details.cfm?country_id=21\">Bangladesh</option>\n",
       "<option value=\"https://www.tees.ac.uk/sections/international/country_details.cfm?country_id=62\">Belarus</option>\n",
       "<option value=\"https://www.tees.ac.uk/sections/international/country_details.cfm?country_id=63\">Belgium</option>\n",
       "<option value=\"https://www.tees.ac.uk/sections/international/country_details.cfm?country_id=64\">Belize</option>\n",
       "<option value=\"https://www.tees.ac.uk/sections/international/country_details.cfm?country_id=41\">Botswana</option>\n",
       "<option value=\"https://www.tees.ac.uk/sections/international/country_details.cfm?country_id=40\">Brazil</option>\n",
       "<option value=\"https://www.tees.ac.uk/sections/international/country_details.cfm?country_id=26\">Brunei</option>\n",
       "<option value=\"https://www.tees.ac.uk/sections/international/country_details.cfm?country_id=52\">Bulgaria</option>\n",
       "<option value=\"https://www.tees.ac.uk/sections/international/country_details.cfm?country_id=74\">Cameroon</option>\n",
       "<option value=\"https://www.tees.ac.uk/sections/international/country_details.cfm?country_id=75\">Canada</option>\n",
       "<option value=\"https://www.tees.ac.uk/sections/international/country_details.cfm?country_id=76\">Chile</option>\n",
       "<option value=\"https://www.tees.ac.uk/sections/international/country_details.cfm?country_id=3\">China</option>\n",
       "<option value=\"https://www.tees.ac.uk/sections/international/country_details.cfm?country_id=77\">Colombia</option>\n",
       "<option value=\"https://www.tees.ac.uk/sections/international/country_details.cfm?country_id=78\">Croatia</option>\n",
       "<option value=\"https://www.tees.ac.uk/sections/international/country_details.cfm?country_id=18\">Cyprus</option>\n",
       "<option value=\"https://www.tees.ac.uk/sections/international/country_details.cfm?country_id=51\">Czech Republic</option>\n",
       "<option value=\"https://www.tees.ac.uk/sections/international/country_details.cfm?country_id=80\">Denmark</option>\n",
       "<option value=\"https://www.tees.ac.uk/sections/international/country_details.cfm?country_id=81\">Ecuador</option>\n",
       "<option value=\"https://www.tees.ac.uk/sections/international/country_details.cfm?country_id=82\">Egypt</option>\n",
       "<option value=\"https://www.tees.ac.uk/sections/international/country_details.cfm?country_id=83\">Estonia</option>\n",
       "<option value=\"https://www.tees.ac.uk/sections/international/country_details.cfm?country_id=84\">Ethiopia</option>\n",
       "<option value=\"https://www.tees.ac.uk/sections/international/country_details.cfm?country_id=53\">Finland</option>\n",
       "<option value=\"https://www.tees.ac.uk/sections/international/country_details.cfm?country_id=54\">France</option>\n",
       "<option value=\"https://www.tees.ac.uk/sections/international/country_details.cfm?country_id=4\">Germany</option>\n",
       "<option value=\"https://www.tees.ac.uk/sections/international/country_details.cfm?country_id=24\">Ghana</option>\n",
       "<option value=\"https://www.tees.ac.uk/sections/international/country_details.cfm?country_id=6\">Greece</option>\n",
       "<option value=\"https://www.tees.ac.uk/sections/international/country_details.cfm?country_id=27\">Hong Kong</option>\n",
       "<option value=\"https://www.tees.ac.uk/sections/international/country_details.cfm?country_id=85\">Hungary</option>\n",
       "<option value=\"https://www.tees.ac.uk/sections/international/country_details.cfm?country_id=2\">India</option>\n",
       "<option value=\"https://www.tees.ac.uk/sections/international/country_details.cfm?country_id=25\">Indonesia</option>\n",
       "<option value=\"https://www.tees.ac.uk/sections/international/country_details.cfm?country_id=86\">Iran</option>\n",
       "<option value=\"https://www.tees.ac.uk/sections/international/country_details.cfm?country_id=28\">Iraq</option>\n",
       "<option value=\"https://www.tees.ac.uk/sections/international/country_details.cfm?country_id=9\">Ireland</option>\n",
       "<option value=\"https://www.tees.ac.uk/sections/international/country_details.cfm?country_id=87\">Israel</option>\n",
       "<option value=\"https://www.tees.ac.uk/sections/international/country_details.cfm?country_id=55\">Italy</option>\n",
       "<option value=\"https://www.tees.ac.uk/sections/international/country_details.cfm?country_id=88\">Ivory Coast</option>\n",
       "<option value=\"https://www.tees.ac.uk/sections/international/country_details.cfm?country_id=89\">Jamaica</option>\n",
       "<option value=\"https://www.tees.ac.uk/sections/international/country_details.cfm?country_id=90\">Japan</option>\n",
       "<option value=\"https://www.tees.ac.uk/sections/international/country_details.cfm?country_id=20\">Jordan</option>\n",
       "<option value=\"https://www.tees.ac.uk/sections/international/country_details.cfm?country_id=29\">Kazakhstan</option>\n",
       "<option value=\"https://www.tees.ac.uk/sections/international/country_details.cfm?country_id=30\">Kenya</option>\n",
       "<option value=\"https://www.tees.ac.uk/sections/international/country_details.cfm?country_id=91\">Kosovo</option>\n",
       "<option value=\"https://www.tees.ac.uk/sections/international/country_details.cfm?country_id=7\">Kuwait</option>\n",
       "<option value=\"https://www.tees.ac.uk/sections/international/country_details.cfm?country_id=127\">Laos</option>\n",
       "<option value=\"https://www.tees.ac.uk/sections/international/country_details.cfm?country_id=14\">Latvia</option>\n",
       "<option value=\"https://www.tees.ac.uk/sections/international/country_details.cfm?country_id=92\">Lebanon</option>\n",
       "<option value=\"https://www.tees.ac.uk/sections/international/country_details.cfm?country_id=15\">Libya</option>\n",
       "<option value=\"https://www.tees.ac.uk/sections/international/country_details.cfm?country_id=47\">Lithuania</option>\n",
       "<option value=\"https://www.tees.ac.uk/sections/international/country_details.cfm?country_id=93\">Luxembourg</option>\n",
       "<option value=\"https://www.tees.ac.uk/sections/international/country_details.cfm?country_id=94\">Macau</option>\n",
       "<option value=\"https://www.tees.ac.uk/sections/international/country_details.cfm?country_id=95\">Malawi</option>\n",
       "<option value=\"https://www.tees.ac.uk/sections/international/country_details.cfm?country_id=5\">Malaysia</option>\n",
       "<option value=\"https://www.tees.ac.uk/sections/international/country_details.cfm?country_id=96\">Malta</option>\n",
       "<option value=\"https://www.tees.ac.uk/sections/international/country_details.cfm?country_id=97\">Mauritius</option>\n",
       "<option value=\"https://www.tees.ac.uk/sections/international/country_details.cfm?country_id=98\">Mexico</option>\n",
       "<option value=\"https://www.tees.ac.uk/sections/international/country_details.cfm?country_id=99\">Morocco</option>\n",
       "<option value=\"https://www.tees.ac.uk/sections/international/country_details.cfm?country_id=31\">Myanmar</option>\n",
       "<option value=\"https://www.tees.ac.uk/sections/international/country_details.cfm?country_id=100\">Namibia</option>\n",
       "<option value=\"https://www.tees.ac.uk/sections/international/country_details.cfm?country_id=32\">Nepal</option>\n",
       "<option value=\"https://www.tees.ac.uk/sections/international/country_details.cfm?country_id=102\">Netherlands</option>\n",
       "<option value=\"https://www.tees.ac.uk/sections/international/country_details.cfm?country_id=103\">New Zealand</option>\n",
       "<option value=\"https://www.tees.ac.uk/sections/international/country_details.cfm?country_id=17\">Nigeria</option>\n",
       "<option value=\"https://www.tees.ac.uk/sections/international/country_details.cfm?country_id=1\">Norway</option>\n",
       "<option value=\"https://www.tees.ac.uk/sections/international/country_details.cfm?country_id=8\">Oman</option>\n",
       "<option value=\"https://www.tees.ac.uk/sections/international/country_details.cfm?country_id=16\">Pakistan</option>\n",
       "<option value=\"https://www.tees.ac.uk/sections/international/country_details.cfm?country_id=104\">Palestine</option>\n",
       "<option value=\"https://www.tees.ac.uk/sections/international/country_details.cfm?country_id=105\">Paraguay</option>\n",
       "<option value=\"https://www.tees.ac.uk/sections/international/country_details.cfm?country_id=106\">Peru</option>\n",
       "<option value=\"https://www.tees.ac.uk/sections/international/country_details.cfm?country_id=107\">Philippines</option>\n",
       "<option value=\"https://www.tees.ac.uk/sections/international/country_details.cfm?country_id=13\">Poland</option>\n",
       "<option value=\"https://www.tees.ac.uk/sections/international/country_details.cfm?country_id=108\">Portugal</option>\n",
       "<option value=\"https://www.tees.ac.uk/sections/international/country_details.cfm?country_id=109\">Qatar</option>\n",
       "<option value=\"https://www.tees.ac.uk/sections/international/country_details.cfm?country_id=48\">Romania</option>\n",
       "<option value=\"https://www.tees.ac.uk/sections/international/country_details.cfm?country_id=110\">Russia</option>\n",
       "<option value=\"https://www.tees.ac.uk/sections/international/country_details.cfm?country_id=111\">Rwanda</option>\n",
       "<option value=\"https://www.tees.ac.uk/sections/international/country_details.cfm?country_id=33\">Saudi Arabia</option>\n",
       "<option value=\"https://www.tees.ac.uk/sections/international/country_details.cfm?country_id=34\">Singapore</option>\n",
       "<option value=\"https://www.tees.ac.uk/sections/international/country_details.cfm?country_id=112\">Slovakia</option>\n",
       "<option value=\"https://www.tees.ac.uk/sections/international/country_details.cfm?country_id=113\">Slovenia</option>\n",
       "<option value=\"https://www.tees.ac.uk/sections/international/country_details.cfm?country_id=114\">South Africa</option>\n",
       "<option value=\"https://www.tees.ac.uk/sections/international/country_details.cfm?country_id=42\">South Korea</option>\n",
       "<option value=\"https://www.tees.ac.uk/sections/international/country_details.cfm?country_id=50\">Spain</option>\n",
       "<option value=\"https://www.tees.ac.uk/sections/international/country_details.cfm?country_id=22\">Sri Lanka</option>\n",
       "<option value=\"https://www.tees.ac.uk/sections/international/country_details.cfm?country_id=115\">Sudan</option>\n",
       "<option value=\"https://www.tees.ac.uk/sections/international/country_details.cfm?country_id=116\">Sweden</option>\n",
       "<option value=\"https://www.tees.ac.uk/sections/international/country_details.cfm?country_id=117\">Switzerland</option>\n",
       "<option value=\"https://www.tees.ac.uk/sections/international/country_details.cfm?country_id=118\">Syria</option>\n",
       "<option value=\"https://www.tees.ac.uk/sections/international/country_details.cfm?country_id=35\">Taiwan</option>\n",
       "<option value=\"https://www.tees.ac.uk/sections/international/country_details.cfm?country_id=119\">Tanzania</option>\n",
       "<option value=\"https://www.tees.ac.uk/sections/international/country_details.cfm?country_id=19\">Thailand</option>\n",
       "<option value=\"https://www.tees.ac.uk/sections/international/country_details.cfm?country_id=120\">Tunisia</option>\n",
       "<option value=\"https://www.tees.ac.uk/sections/international/country_details.cfm?country_id=49\">Turkey</option>\n",
       "<option value=\"https://www.tees.ac.uk/sections/international/country_details.cfm?country_id=44\">Uganda</option>\n",
       "<option value=\"https://www.tees.ac.uk/sections/international/country_details.cfm?country_id=23\">UK-based agents for international students</option>\n",
       "<option value=\"https://www.tees.ac.uk/sections/international/country_details.cfm?country_id=121\">Ukraine</option>\n",
       "<option value=\"https://www.tees.ac.uk/sections/international/country_details.cfm?country_id=122\">United Arab Emirates</option>\n",
       "<option value=\"https://www.tees.ac.uk/sections/international/country_details.cfm?country_id=45\">USA</option>\n",
       "<option value=\"https://www.tees.ac.uk/sections/international/country_details.cfm?country_id=123\">Uzbekistan</option>\n",
       "<option value=\"https://www.tees.ac.uk/sections/international/country_details.cfm?country_id=124\">Venezuela</option>\n",
       "<option value=\"https://www.tees.ac.uk/sections/international/country_details.cfm?country_id=36\">Vietnam</option>\n",
       "<option value=\"https://www.tees.ac.uk/sections/international/country_details.cfm?country_id=125\">Yemen</option>\n",
       "<option value=\"https://www.tees.ac.uk/sections/international/country_details.cfm?country_id=46\">Zambia</option>\n",
       "<option value=\"https://www.tees.ac.uk/sections/international/country_details.cfm?country_id=126\">Zimbabwe</option>\n",
       "</select>  \n",
       "\t\t    \n",
       "\t\t    \n",
       "\t\t    \n",
       "\t\t    \n",
       "\t\t</form>\n",
       "</div>\n",
       "</div>\n",
       "<div class=\"postbox teal_border\">\n",
       "<div class=\"postboxcontent\" style=\"border:none;\">\n",
       "<h3>\n",
       "<a href=\"https://isc.tees.ac.uk/\" target=\"_blank\" title=\"Pathway programmes\">\n",
       "                      Pathway programmes</a></h3>\n",
       "<p>A great option if you don't meet entry requirements</p>\n",
       "</div>\n",
       "</div>\n",
       "<div class=\"postbox teal_border\">\n",
       "<a href=\"https://www.tees.ac.uk/sections/international/contact.cfm\">\n",
       "<img alt=\"talk to us\" src=\"https://www.tees.ac.uk/images/sections/international/template_responsive/ads/talk2016.jpg\"/></a>\n",
       "<div class=\"postboxcontent\" style=\"border:none;\">\n",
       "<h3>\n",
       "<a href=\"https://www.tees.ac.uk/sections/international/contact.cfm\" title=\"Talk to us\">\n",
       "                      Talk to us</a></h3>\n",
       "<p>Chat to us and get information instantly.</p>\n",
       "</div>\n",
       "</div>\n",
       "<div class=\"sixteen columns omega news sidebar\">\n",
       "<h3>\n",
       "<a href=\"https://www.tees.ac.uk/sections/international/news.cfm\" target=\"_top\" title=\"Latest international articles \">Latest international articles</a>\n",
       "</h3>\n",
       "<div class=\"sidebarbox corporate\">\n",
       "<a href=\"https://www.tees.ac.uk/sections/international/news_story.cfm?story_id=8178\">\n",
       "<p><img alt=\"Distinguished Indian visitors tour Teesside University\n",
       "...\" border=\"0\" height=\"86\" src=\"https://www.tees.ac.uk/Images/CommonImages/publication_photos/release_photos/thumbnails/8178.jpg\" width=\"120\"/>\n",
       "\t\t\t\t\t\t\t\t\tDistinguished Indian visitors tour Teesside University\n",
       "...</p>\n",
       "</a>\n",
       "<div class=\"clearfix\"></div>\n",
       "</div>\n",
       "<div class=\"sidebarbox corporate\">\n",
       "<a href=\"https://www.tees.ac.uk/sections/international/news_story.cfm?story_id=8159\">\n",
       "<p><img alt=\"New international lead appointed to help deliver Teesside\n",
       "...\" border=\"0\" height=\"86\" src=\"https://www.tees.ac.uk/Images/CommonImages/publication_photos/release_photos/thumbnails/8159.jpg\" width=\"120\"/>\n",
       "\t\t\t\t\t\t\t\t\tNew international lead appointed to help deliver Teesside\n",
       "...</p>\n",
       "</a>\n",
       "<div class=\"clearfix\"></div>\n",
       "</div>\n",
       "<div class=\"sidebarbox corporate\">\n",
       "<a href=\"https://www.tees.ac.uk/sections/international/news_story.cfm?story_id=8100\">\n",
       "<p><img alt=\"University collaboration with South Africa to support\n",
       "...\" border=\"0\" height=\"86\" src=\"https://www.tees.ac.uk/Images/CommonImages/publication_photos/release_photos/thumbnails/8100.jpg\" width=\"120\"/>\n",
       "\t\t\t\t\t\t\t\t\tUniversity collaboration with South Africa to support\n",
       "...</p>\n",
       "</a>\n",
       "<div class=\"clearfix\"></div>\n",
       "</div>\n",
       "</div>\n",
       "<div class=\"clearfix\"> </div>\n",
       "</div>\n",
       "<div class=\"clearfix\"> </div>\n",
       "</div>\n",
       "</section>\n",
       "<!-- International Chat -->\n",
       "<script src=\"https://service.force.com/embeddedservice/menu/fab.min.js\" type=\"text/javascript\"></script>\n",
       "<script type=\"text/javascript\">\n",
       "\t\t\tvar initESW = function(gslbBaseURL) {\n",
       "\t\t\t\t// Required if you want labels in a language thatâ€™s different from your userâ€™s context.\n",
       "\t\t\t\t//embedded_svc.menu.settings.language = ''; //For example, enter 'en' or 'en-US'\n",
       "\n",
       "\t\t\t\tembedded_svc.menu.init(\n",
       "\t\t\t\t\t'https://uniquest.my.salesforce.com',\n",
       "\t\t\t\t\t'https://d.la1-c1-lo3.salesforceliveagent.com/chat',\n",
       "\t\t\t\t\tgslbBaseURL,\n",
       "\t\t\t\t\t'00Db0000000a4PK',\n",
       "\t\t\t\t\t'Teeside_Channel_Menu',\n",
       "\t\t\t\t\t{\n",
       "\t\t\t\t\t\tpageName:\"CustomPrechatSettings\"   \n",
       "\t\t\t\t\t}\n",
       "\t\t\t\t);\n",
       "\t\t\t};\n",
       "\n",
       "\t\t\tif (!window.embedded_svc || !window.embedded_svc.menu) {\n",
       "\t\t\t\tvar s = document.createElement('script');\n",
       "\t\t\t\ts.setAttribute('src', 'https://uniquest.my.salesforce.com/embeddedservice/menu/fab.min.js');\n",
       "\t\t\t\ts.onload = function() {\n",
       "\t\t\t\t\tinitESW(null);\n",
       "\t\t\t\t};\n",
       "\t\t\t\tdocument.body.appendChild(s);\n",
       "\t\t\t} else {\n",
       "\t\t\t\tinitESW('https://service.force.com');\n",
       "\t\t\t}\n",
       "\t\t</script>\n",
       "<!-- container -->\n",
       "<section class=\"footernav\">\n",
       "<div class=\"section_wrapper\">\n",
       "<div class=\"sixteen columns alpha\">\n",
       "<ul class=\"inlinelist breadcrumb\">\n",
       "<li id=\"bc1\">\n",
       "<a href=\"https://www.tees.ac.uk/\" title=\"Home\">Home</a>\n",
       "\t\t\t\t›\n",
       "\t\t\t\t\n",
       "\t\t\t</li>\n",
       "<li id=\"bc2\">\n",
       "<a href=\"/sections/international/\" title=\"International students\">International students</a>\n",
       "\t\t\t\t›\n",
       "\t\t\t\t\n",
       "\t\t\t</li>\n",
       "<li id=\"bc3\">\n",
       "\t\t\t\tStudent views \n",
       "\t\t\t</li>\n",
       "</ul>\n",
       "</div>\n",
       "<div class=\"sixteen columns alpha\">\n",
       "<nav id=\"bottommenu\">\n",
       "<ul class=\"inlinelist\">\n",
       "<li><a href=\"https://www.tees.ac.uk/sections/coursesearch/\" target=\"_top\">Study here</a></li>\n",
       "<li><a href=\"https://www.tees.ac.uk/sections/business/\" target=\"_top\">Business</a></li>\n",
       "<li><a href=\"https://www.tees.ac.uk/sections/research/\" target=\"_top\">Research</a></li>\n",
       "<li><a href=\"https://www.tees.ac.uk/sections/about/\" target=\"_top\">About</a></li>\n",
       "<li><a href=\"https://www.tees.ac.uk/sections/alumni\" target=\"_top\">Alumni</a></li>\n",
       "</ul>\n",
       "</nav>\n",
       "</div>\n",
       "<div class=\"clearfix\"></div>\n",
       "</div>\n",
       "</section>\n",
       "<footer role=\"contentinfo\">\n",
       "<div class=\"section_wrapper\">\n",
       "<div class=\"three columns alpha\">\n",
       "<h2>\n",
       "<a href=\"https://www.tees.ac.uk/sections/about/contacts_general.cfm\" target=\"_top\" title=\"Contact us \">Contact us</a></h2>\n",
       "<p>T: 01642 218121 <br/>E: \n",
       "<a href=\"mailto:enquiries@tees.ac.uk\" target=\"_top\" title=\"enquiries@tees.ac.uk \">enquiries@tees.ac.uk</a><br>\n",
       "\t\t\t\t\t\tE: \n",
       "<a href=\"mailto:internationalenquiries@tees.ac.uk\" target=\"_top\" title=\"International enquiries \">International enquiries</a></br></p>\n",
       "</div>\n",
       "<div class=\"three columns alpha\">\n",
       "<h2>\n",
       "<a href=\"https://www.tees.ac.uk/sections/about/visiting/travel.cfm\" target=\"_top\" title=\"Find us \">Find us</a></h2>\n",
       "<p><strong>Teesside University</strong><br/> Middlesbrough<br>Tees Valley<br>TS1 3BX  UK<br/>\n",
       "<a href=\"https://www.tees.ac.uk/sections/about/visiting/travel.cfm\" target=\"_top\" title=\"Travel directions \">Travel directions</a></br></br></p>\n",
       "</div>\n",
       "<div class=\"five columns alpha\">\n",
       "<h2>\n",
       "<a href=\"https://www.tees.ac.uk/sections/about/university/schools_departments.cfm\" target=\"_top\" title=\"Academic schools \">Academic schools</a></h2>\n",
       "<ul class=\"arrow\">\n",
       "<li>\n",
       "<a href=\"https://www.tees.ac.uk/schools/mima/\" target=\"_top\" title=\"School of Arts &amp; Creative Industries \">School of Arts &amp; Creative Industries</a></li>\n",
       "<li>\n",
       "<a href=\"https://www.tees.ac.uk/schools/scedt/\" target=\"_top\" title=\"School of Computing, Engineering &amp; Digital Technologies \">School of Computing, Engineering &amp; Digital Technologies</a></li>\n",
       "<li>\n",
       "<a href=\"https://www.tees.ac.uk/schools/shls/\" target=\"_top\" title=\"School of Health &amp; Life Sciences \">School of Health &amp; Life Sciences</a></li>\n",
       "<li>\n",
       "<a href=\"https://www.tees.ac.uk/schools/ssshl/\" target=\"_top\" title=\"School of Social Sciences, Humanities &amp; Law \">School of Social Sciences, Humanities &amp; Law</a></li>\n",
       "<li>\n",
       "<a href=\"https://www.tees.ac.uk/schools/tubs/\" target=\"_top\" title=\"Teesside University International Business School \">Teesside University International Business School</a></li>\n",
       "<li>\n",
       "<a href=\"https://www.tees.ac.uk/sections/about/university/schools_departments.cfm\" target=\"_top\" title=\"University departments \">University departments</a></li>\n",
       "</ul>\n",
       "</div>\n",
       "<div class=\"five columns alpha\">\n",
       "<h2>\n",
       "<a href=\"https://www.tees.ac.uk/sections/news/social_media.cfm\" target=\"_top\" title=\"Connect with us \">Connect with us</a></h2>\n",
       "<ul class=\"social\">\n",
       "<li><a href=\"https://www.instagram.com/teessideuniinternational/\" target=\"_blank\" title=\"Instagram\"><i class=\"fab fa-instagram\"></i></a></li>\n",
       "<li><a href=\"https://www.youtube.com/universityofteesside\" target=\"_blank\" title=\"Youtube\"><i class=\"fab fa-youtube-square\"></i></a></li>\n",
       "<li><a href=\"https://www.tiktok.com/@teessideuni\" target=\"_blank\" title=\"TikTok\"><i class=\"fab fa-tiktok\"></i></a></li>\n",
       "<li><a href=\"https://www.facebook.com/TeessideUniversityInternational/\" target=\"_blank\" title=\"Facebook\"><i class=\"fab fa-facebook-f\"></i></a></li>\n",
       "<li><a href=\"https://www.Twitter.com/TeessideUni\" target=\"_blank\" title=\"Twitter\"><i class=\"fab fa-twitter\"></i></a></li>\n",
       "<li><a href=\"https://uk.linkedin.com/edu/teesside-university-12727\" target=\"_blank\" title=\"LinkedIn\"><i class=\"fab fa-linkedin-in\"></i></a></li>\n",
       "<li><a href=\"https://www.snapchat.com/add/teessideuni\" target=\"_blank\" title=\"SnapChat\"><i class=\"fab fa-snapchat-ghost\"></i></a></li>\n",
       "</ul>\n",
       "</div>\n",
       "<div class=\"clearfix\"></div>\n",
       "<hr/>\n",
       "<ul class=\"inline\">\n",
       "<li><strong> © 2023 Teesside University</strong></li>\n",
       "<li>\n",
       "<a href=\"https://www.tees.ac.uk/sections/about/information_governance/privacy.cfm\" target=\"_top\" title=\"Privacy notices \">Privacy notices</a></li>\n",
       "<li>\n",
       "<a href=\"https://www.tees.ac.uk/sections/about/public_information/copyright.cfm\" target=\"_top\" title=\"Legal statements \">Legal statements</a></li>\n",
       "<li>\n",
       "<a href=\"https://www.tees.ac.uk/sections/about/information_governance/foi.cfm\" target=\"_top\" title=\"Freedom of information \">Freedom of information</a></li>\n",
       "<li>\n",
       "<a href=\"https://www.tees.ac.uk/sections/about/public_information/copyright.cfm?display=cookies\" target=\"_top\" title=\"Cookies \">Cookies</a></li>\n",
       "<li>\n",
       "<a href=\"https://connect.tees.ac.uk/docs/publicdocumentslibraries/default-document-library/legal-and-governance-services/modern-slavery-and-human-trafficking-statement.pdf\"> \n",
       "\tModern Slavery Statement</a></li>\n",
       "<li>\n",
       "<a href=\"https://www.tees.ac.uk/sections/about/public_information/prevent.cfm\" target=\"_top\" title=\"The Prevent Duty \">The Prevent Duty</a></li>\n",
       "<li>\n",
       "<a href=\"https://www.tees.ac.uk/sections/about/public_information/transparency_return.cfm\" target=\"_top\" title=\"Transparency return \">Transparency return</a></li>\n",
       "</ul>\n",
       "<div class=\"clearfix\"> </div>\n",
       "</div>\n",
       "</footer>\n",
       "<a class=\"cd-top\" href=\"#0\" style=\"bottom: 80px;\" title=\"Go to top menu\"><i class=\"fa fa-chevron-up\"></i><span class=\"visually-hidden\">Go to top menu</span></a>\n",
       "<!-- JS - Add or remove any of the scripts to suit the functionality you wish to display.\n",
       "================================================== -->\n",
       "<script src=\"//ajax.googleapis.com/ajax/libs/jquery/1.9.1/jquery.min.js\"></script>\n",
       "<script src=\"//code.jquery.com/jquery-migrate-1.2.1.js\"></script>\n",
       "<script src=\"//www.tees.ac.uk/javaScript_v7/responsiveslides.min.js\"></script>\n",
       "<script src=\"//www.tees.ac.uk/javaScript_v7/jquery.flexnav-min.js\"></script>\n",
       "<script src=\"//www.tees.ac.uk/javaScript_v7/plugins.js\"></script>\n",
       "<script src=\"//www.tees.ac.uk/javaScript_v7/script.js\"></script>\n",
       "<script src=\"//www.tees.ac.uk/javaScript_v7/helper.js\"></script>\n",
       "<script src=\"//www.tees.ac.uk/javaScript_v7/classie.js\"></script>\n",
       "<script src=\"//www.tees.ac.uk/javaScript_v7/jquery.showhide.js\"></script>\n",
       "<script src=\"//www.tees.ac.uk/javaScript_v7/picturefill.min.js\"></script>\n",
       "<script src=\"//www.tees.ac.uk/javaScript_v7/tabs-2.js\"></script>\n",
       "<script crossorigin=\"anonymous\" src=\"https://kit.fontawesome.com/0a50b9140c.js\"></script>\n",
       "<script src=\"//www.tees.ac.uk/javaScript_v7/backtotop.js\"></script>\n",
       "<script src=\"//www.tees.ac.uk/javaScript_v7/smoothscroll.js\"></script>\n",
       "<script src=\"//www.tees.ac.uk/javaScript_v7/jquery.easy-autocomplete.min.js\"></script>\n",
       "<script src=\"//www.tees.ac.uk/javaScript_v7/jquery.fancybox.min.js\"></script>\n",
       "<script src=\"//www.tees.ac.uk/javaScript_v7/jquery-ui.min.js\"></script>\n",
       "<script src=\"//www.tees.ac.uk/javaScript_v7/jquery.select-to-autocomplete.js\"></script>\n",
       "<script>\n",
       "\t  (function($){\n",
       "\t    $(function(){\n",
       "\t      $('.auto-complete-field').selectToAutocomplete();\n",
       "\t      $('.auto-complete-form').submit(function(){\n",
       "\t        alert( $(this).serialize() );\n",
       "\t        return false;\n",
       "\t      });\n",
       "\t    });\n",
       "\t  })(jQuery);\n",
       "\t</script>\n",
       "<script id=\"rendered-js\">\n",
       "$('[data-fancybox=\"mygallery7\"]').fancybox({\n",
       "  thumbs : {\n",
       "    autoStart : true\n",
       "  },\n",
       "\tbuttons: [\n",
       "\t\t\"zoom\",\n",
       "\t\t\"share\",\n",
       "\t\t\"slideShow\",\n",
       "\t\t//\"fullScreen\",\n",
       "\t\t//\"download\",\n",
       "\t\t//\"thumbs\",\n",
       "\t\t\"close\"\n",
       "\t  ],\n",
       "\t})\n",
       "</script>\n",
       "<script type=\"text/javascript\">\n",
       "$(function(){\n",
       "  var $searchlink = $('#searchtoggl i');\n",
       "  var $searchbar  = $('#searchbar');\n",
       "  \n",
       "  $('.search_toggle').on('click', function(e){\n",
       "    e.preventDefault();\n",
       "    \n",
       "    if($(this).attr('id') == 'searchtoggl') {\n",
       "      if(!$searchbar.is(\":visible\")) { \n",
       "        // if invisible we switch the icon to appear collapsable\n",
       "        $searchlink.removeClass('fa-search').addClass('fa-search-minus').removeClass('fa-search-plus');\n",
       "      } else {\n",
       "        // if visible we switch the icon to appear as a toggle\n",
       "        $searchlink.removeClass('fa-search-minus').removeClass('fa-times').addClass('fa-search');\n",
       "      }\n",
       "      \n",
       "      $searchbar.slideToggle(300, function(){\n",
       "        // callback after search bar animation\n",
       "      });\n",
       "    }\n",
       "  });\n",
       "  \n",
       "  $('#searchform').submit(function(e){\n",
       "    e.preventDefault(); // stop form submission\n",
       "  });\n",
       "});\n",
       "</script>\n",
       "<script type=\"text/javascript\">\n",
       "$(function(){\n",
       "  var $searchlink = $('#searchtoggl i');\n",
       "  var $searchbar  = $('#searchbar');\n",
       "  \n",
       "  $('#nav ul li.searchlist a').on('click', function(e){\n",
       "    e.preventDefault();\n",
       "    \n",
       "    if($(this).attr('id') == 'searchtoggl') {\n",
       "      if(!$searchbar.is(\":visible\")) { \n",
       "        // if invisible we switch the icon to appear collapsable\n",
       "        $searchlink.removeClass('fa-search').addClass('fa-search-minus');\n",
       "      } else {\n",
       "        // if visible we switch the icon to appear as a toggle\n",
       "        $searchlink.removeClass('fa-search-minus').addClass('fa-search');\n",
       "      }\n",
       "      \n",
       "      $searchbar.slideToggle(300, function(){\n",
       "        // callback after search bar animation\n",
       "      });\n",
       "      \n",
       "      $(\"#googlesearch\").focus();\n",
       "    }\n",
       "  });\n",
       "  \n",
       "  \n",
       "  \n",
       "  $('#searchform').submit(function(e){\n",
       "    e.preventDefault(); // stop form submission\n",
       "  });\n",
       "});\n",
       "</script>\n",
       "<script src=\"https://www.google.com/jsapi\" type=\"text/javascript\"></script>\n",
       "<script type=\"text/javascript\">\n",
       "google.load('search', '1');\n",
       "var autoCompletionOptions = {\n",
       "  'maxCompletions' : 10,\n",
       "  'styleOptions' : {\n",
       "    'xOffset' : 0\n",
       "}};\n",
       "google.setOnLoadCallback(function() {\n",
       "  google.search.CustomSearchControl.attachAutoCompletionWithOptions(\n",
       "    \"010401732483047907418:f3xgqxzthsg\", document.getElementById('googlesearch'), 'searchbox_010401732483047907418:f3xgqxzthsg',\n",
       "    autoCompletionOptions);\n",
       "});\n",
       "</script>\n",
       "<script type=\"text/javascript\">\n",
       "function cycleImages(){\n",
       "      var $active = $('#imgfade .active');\n",
       "      var $next = ($active.next().not('.base').length > 0) ? $active.next().not('.base') : $('#imgfade img').not('.base').first();\n",
       "      $next.css('z-index',2);//move the next image up the pile\n",
       "      $active.fadeOut(1500,function(){//fade out the top image\n",
       "\t      $active.css('z-index',1).show().removeClass('active');//reset the z-index and unhide the image\n",
       "          $next.css('z-index',3).addClass('active');//make the next image the top one\n",
       "      });\n",
       "    }\n",
       "\n",
       "$(document).ready(function(){\n",
       "$('#imgfade img.base').clone().prependTo('#imgfade');\n",
       "$('#imgfade img.base').last().removeClass('base').addClass('active');\n",
       "$('#imgfade img').show();\n",
       "// run every 4s\n",
       "setInterval('cycleImages()', 6000);\n",
       "})</script>\n",
       "<script type=\"text/javascript\">\n",
       "\n",
       "/* If touched, prevent click on parent nav item from redirecting to URL */\n",
       "\t\t\n",
       "\t\t(function(window){\n",
       "\t\t\t  var nav = document.querySelector(\"nav.cmn-tile-nav\"),\n",
       "\t\t\tnav_toggle = document.querySelector(\"a.nav-toggle\");\n",
       "\t\t\t\n",
       "\t\t\t  nav_toggle.addEventListener(\"click\", function(e){\n",
       "\t\t\t \n",
       "\t\t\t\tclassie.toggle(nav, \"open\");\n",
       "\t\t\t  });\n",
       "\t\t\t\n",
       "\t\t})(window);\n",
       "\t\t\n",
       "\t\t$('a.taphover').on(\"touchend\", function (e) {\n",
       "\t\t\n",
       "\t\t'use strict'; //satisfy code inspectors\n",
       "\t\tvar link = $(this); //preselect the link\n",
       "\t\tif (link.hasClass('hover')) {\n",
       "\t\t\treturn true;\n",
       "\t\t} \n",
       "\t});\n",
       "\n",
       "\n",
       "</script>\n",
       "<script>\n",
       "function rTapPostReplacement() {\n",
       " \n",
       "  var imgURL = null;\n",
       "  var adivi = null;\n",
       "  var adis = null;\n",
       "  var cvs = 0; // custom variable slot in ResponseTap to store Google User Id\n",
       "  \n",
       "  try{\n",
       "    \n",
       "    if (document.referrer.indexOf(\"tees.ac.uk/ \") == -1){\n",
       "      adivi = document.cookie.match(/adiVi=[0-9]+/)[0].replace('adiVi=', ''); \n",
       "      adis = document.cookie.match(/adiS=[\\.A-Za-z0-9]+/)[0].replace('adiS=', '');\n",
       "      \n",
       "      // This sends the Google user id to ResponseTap\n",
       "      imgUrl = 'http://cm.g.doubleclick.net/pixel?google_nid=responsetap_dmp&cvs=' + cvs +'&adivi=' + adivi + '&adis=' + adis + '&google_cm';\n",
       "      (new Image()).src = imgUrl;\n",
       "    }\n",
       "  }catch(err) { } \n",
       "}\n",
       " \n",
       "</script>\n",
       "<script type=\"text/javascript\">\n",
       "   var adiInit = \"41710\", adiRVO = true;\n",
       "   var adiFunc = null;\n",
       "   (function() {\n",
       "      var adiSrc = document.createElement(\"script\"); adiSrc.type = \"text/javascript\";\n",
       "      adiSrc.async = true;\n",
       "      adiSrc.src = (\"https:\" == document.location.protocol ? \"https://static-ssl\" : \"http://static-cdn\")\n",
       "                + \".responsetap.com/static/scripts/rTapTrack.min.js\";\n",
       "      var s = document.getElementsByTagName(\"script\")[0];\n",
       "      s.parentNode.insertBefore(adiSrc, s);\n",
       "   })();\n",
       "</script>\n",
       "<script type=\"text/javascript\">\n",
       "    var serviceUrl = \"//api.reciteme.com/asset/js?key=\";\n",
       "    var serviceKey = \"94dc164043abcf8acb1a404c2968e251d8951d2a\";\n",
       "    var options = {};  // Options can be added as needed\n",
       "    var autoLoad = false;\n",
       "    var enableFragment = \"#reciteEnable\";\n",
       "\n",
       "    var loaded=[],frag=!1;window.location.hash===enableFragment&&(frag=!0);function loadScript(c,b){var a=document.createElement(\"script\");a.type=\"text/javascript\";a.readyState?a.onreadystatechange=function(){if(\"loaded\"==a.readyState||\"complete\"==a.readyState)a.onreadystatechange=null,void 0!=b&&b()}:void 0!=b&&(a.onload=function(){b()});a.src=c;document.getElementsByTagName(\"head\")[0].appendChild(a)}function _rc(c){c+=\"=\";for(var b=document.cookie.split(\";\"),a=0;a<b.length;a++){for(var d=b[a];\" \"==d.charAt(0);)d=d.substring(1,d.length);if(0==d.indexOf(c))return d.substring(c.length,d.length)}return null}function loadService(c){for(var b=serviceUrl+serviceKey,a=0;a<loaded.length;a++)if(loaded[a]==b)return;loaded.push(b);loadScript(serviceUrl+serviceKey,function(){\"function\"===typeof _reciteLoaded&&_reciteLoaded();\"function\"==typeof c&&c();Recite.load(options);Recite.Event.subscribe(\"Recite:load\",function(){Recite.enable()})})}\"true\"==_rc(\"Recite.Persist\")&&loadService();if(autoLoad&&\"false\"!=_rc(\"Recite.Persist\")||frag)document.addEventListener?document.addEventListener(\"DOMContentLoaded\",function(c){loadService()}):loadService();\n",
       "\n",
       "</script>\n",
       "<script type=\"text/javascript\">\n",
       "    jQuery(\".reciteme\").click(function(i,e){\n",
       "        loadService();\n",
       "        return false;\n",
       "    });\n",
       "\n",
       "</script>\n",
       "<script type=\"text/javascript\"> \n",
       "\t\t  var cdScore = 10; \n",
       "\t\t</script>\n",
       "<script async=\"\" src=\"https://siteimproveanalytics.com/js/siteanalyze_51623399.js\"></script>\n",
       "</body>\n",
       "</html> </html>"
      ]
     },
     "execution_count": 7,
     "metadata": {},
     "output_type": "execute_result"
    }
   ],
   "source": [
    "soup"
   ]
  },
  {
   "cell_type": "code",
   "execution_count": 8,
   "id": "7e6f7174",
   "metadata": {},
   "outputs": [],
   "source": [
    "content = soup.find('div',{\"class\": \"container-small profile-container\"})"
   ]
  },
  {
   "cell_type": "code",
   "execution_count": 9,
   "id": "9bdedefc",
   "metadata": {},
   "outputs": [
    {
     "data": {
      "text/plain": [
       "<div class=\"container-small profile-container\">\n",
       "<br>\n",
       "<h3>Why Teesside?</h3>\n",
       "<p> After completing my Bachelor of Medicine and Bachelor of Surgery (MBBS) degree in Nigeria, I worked in specialist care. However, I knew I had a flair for public health and I was interested in pursuing a master’s degree in the field. I searched for Universities that offered the course, and I was particularly interested in studying in the UK because I wanted a different learning experience to what I was used to.<br class=\"small\"/><br class=\"small\"/>I made enquiries with some Teesside alumni back in Nigeria and they gave positive reviews of their time in Middlesbrough. I was so encouraged by these reviews that I decided to go for it.<br class=\"small\"/> </p>\n",
       "<h3>What was your course like?</h3>\n",
       "<p> The best thing about my course was conducting my final research. It was eye-opening and revealed some of my strengths. I had a supervisor who was helpful throughout the process and this really enabled me to progress with the research.<br class=\"small\"/><br class=\"small\"/>The relaxed environment and atmosphere really helped me to make friends with my classmates, who came from all around the world, and this was helpful for me being away from home. It was great meeting new people, learning with them and also having fun.<br class=\"small\"/><br class=\"small\"/>The classes inspired me to study and helped to boost my confidence. Even now that I’m out of the University system, I find that I still use the knowledge and skills learned during the course for my medical practice. I was able to develop life skills such as critical-thinking.<br class=\"small\"/> </p>\n",
       "<h3>What was your social life like?</h3>\n",
       "<p> I had a lot of fun at Teesside University. From the welcome event for International students, to the time spent at the Students' Union socialising, there was a wide array of activities to choose from. I also enjoyed watching football matches at the Riverside Stadium and having nights out at restaurants in the town. </p>\n",
       "<h3>What have you been doing since graduation?</h3>\n",
       "<p> Since graduation, I have worked as a freelancer in health research analysis and I’m now working as a Primary Care Physician at Quickcare Clinic in Lagos, Nigeria. My time at Teesside University definitely helped me to get closer to my goals. </p>\n",
       "<div class=\"clearfix\"></div>\n",
       "</br></div>"
      ]
     },
     "execution_count": 9,
     "metadata": {},
     "output_type": "execute_result"
    }
   ],
   "source": [
    "content"
   ]
  },
  {
   "cell_type": "code",
   "execution_count": 10,
   "id": "7c72b0ce",
   "metadata": {},
   "outputs": [
    {
     "name": "stdout",
     "output_type": "stream",
     "text": [
      "[\"  \\nWhy Teesside?\\n After completing my Bachelor of Medicine and Bachelor of Surgery (MBBS) degree in Nigeria, I worked in specialist care. However, I knew I had a flair for public health and I was interested in pursuing a master’s degree in the field. I searched for Universities that offered the course, and I was particularly interested in studying in the UK because I wanted a different learning experience to what I was used to.I made enquiries with some Teesside alumni back in Nigeria and they gave positive reviews of their time in Middlesbrough. I was so encouraged by these reviews that I decided to go for it. \\nWhat was your course like?\\n The best thing about my course was conducting my final research. It was eye-opening and revealed some of my strengths. I had a supervisor who was helpful throughout the process and this really enabled me to progress with the research.The relaxed environment and atmosphere really helped me to make friends with my classmates, who came from all around the world, and this was helpful for me being away from home. It was great meeting new people, learning with them and also having fun.The classes inspired me to study and helped to boost my confidence. Even now that I’m out of the University system, I find that I still use the knowledge and skills learned during the course for my medical practice. I was able to develop life skills such as critical-thinking. \\nWhat was your social life like?\\n I had a lot of fun at Teesside University. From the welcome event for International students, to the time spent at the Students' Union socialising, there was a wide array of activities to choose from. I also enjoyed watching football matches at the Riverside Stadium and having nights out at restaurants in the town. \\nWhat have you been doing since graduation?\\n Since graduation, I have worked as a freelancer in health research analysis and I’m now working as a Primary Care Physician at Quickcare Clinic in Lagos, Nigeria. My time at Teesside University definitely helped me to get closer to my goals. \\n\\n        \"]\n"
     ]
    }
   ],
   "source": [
    "# creating the tex data\n",
    "article = ' '\n",
    "for i in content.findAll('br'):\n",
    "    \n",
    "    article= article + ' ' + i.text\n",
    "    \n",
    "    article1 =[article]\n",
    "    \n",
    "print(article1)"
   ]
  },
  {
   "cell_type": "markdown",
   "id": "063cc1e4",
   "metadata": {},
   "source": [
    "## 2. File Parsing"
   ]
  },
  {
   "cell_type": "markdown",
   "id": "8c2efe4d",
   "metadata": {},
   "source": [
    "### 2a PDF parsing"
   ]
  },
  {
   "cell_type": "code",
   "execution_count": 11,
   "id": "aaacde33",
   "metadata": {},
   "outputs": [],
   "source": [
    "import os\n",
    "\n",
    "path = '/Users/offer/'\n",
    "os.chdir(path)"
   ]
  },
  {
   "cell_type": "code",
   "execution_count": 12,
   "id": "5c65d5fd",
   "metadata": {},
   "outputs": [
    {
     "data": {
      "text/plain": [
       "'import os\\nimport PyPDF2\\n\\nfile_list = os.listdir() # provides list of all the files in the directory\\nfor file_name in file_list:\\n     with open(path + file_name, \\'rb\\') as f:\\n        c_reader = PyPDF2.PdfReader(f)\\n        file_contents = c_reader.pages[0].extractText().split(\\'\\n\\')\\n        Applicant_no =\"\"\\n        Sponsor_Licence_Number = \"\"\\n        \\n        for i in range(len(file_contents)):\\n            if file_contents[i].find(\"Applicant Number\") !=-1:\\n                Applicant_no = file_contents[i]. split(\\'\\t\\')[i]\\n            if file_contents[i].find(\"Sponsor Licence Number\") !=-1:\\n                Sponsor_Licence_Number= file_contents[i]. split(\\'\\t\\')[i]\\n            if file_contents[i].find(\" Passport Number\") !=-1:\\n                Passport_Number = file_contents[i]. split(\\'\\t\\')[i]\\n                \\n                \\n        print(Applicant_no+ \" ,\" + Sponsor_Licence_Number+ \", \" +Passport_Number)\\n        f.close()'"
      ]
     },
     "execution_count": 12,
     "metadata": {},
     "output_type": "execute_result"
    }
   ],
   "source": [
    "\"\"\"import os\n",
    "import PyPDF2\n",
    "\n",
    "file_list = os.listdir() # provides list of all the files in the directory\n",
    "for file_name in file_list:\n",
    "     with open(path + file_name, 'rb') as f:\n",
    "        c_reader = PyPDF2.PdfReader(f)\n",
    "        file_contents = c_reader.pages[0].extractText().split('\\n')\n",
    "        Applicant_no =\"\"\n",
    "        Sponsor_Licence_Number = \"\"\n",
    "        \n",
    "        for i in range(len(file_contents)):\n",
    "            if file_contents[i].find(\"Applicant Number\") !=-1:\n",
    "                Applicant_no = file_contents[i]. split('\\t')[i]\n",
    "            if file_contents[i].find(\"Sponsor Licence Number\") !=-1:\n",
    "                Sponsor_Licence_Number= file_contents[i]. split('\\t')[i]\n",
    "            if file_contents[i].find(\" Passport Number\") !=-1:\n",
    "                Passport_Number = file_contents[i]. split('\\t')[i]\n",
    "                \n",
    "                \n",
    "        print(Applicant_no+ \" ,\" + Sponsor_Licence_Number+ \", \" +Passport_Number)\n",
    "        f.close()\"\"\"\n"
   ]
  },
  {
   "cell_type": "code",
   "execution_count": 13,
   "id": "6ef5483c",
   "metadata": {},
   "outputs": [],
   "source": [
    "#pip install --upgrade PyPDF2"
   ]
  },
  {
   "cell_type": "code",
   "execution_count": 14,
   "id": "fee2f1fb",
   "metadata": {},
   "outputs": [],
   "source": [
    "# pip install pypdf2"
   ]
  },
  {
   "cell_type": "markdown",
   "id": "8645cd0d",
   "metadata": {},
   "source": [
    "### 2b word parsing"
   ]
  },
  {
   "cell_type": "code",
   "execution_count": 15,
   "id": "9a5d63f9",
   "metadata": {},
   "outputs": [],
   "source": [
    "#pip install docx2txt"
   ]
  },
  {
   "cell_type": "code",
   "execution_count": 16,
   "id": "b3b207fb",
   "metadata": {},
   "outputs": [],
   "source": [
    "import docx2txt\n",
    "path2 = \"/Users/Blessing/Desktop/MSC_Dissertation_Data/\"\n",
    "os.chdir(path2)\n",
    "\n",
    "read_word_file = docx2txt.process(\"UEL-DS-7010 Data Science Dissertation.docx\")\n",
    "read_word_list =[read_word_file]"
   ]
  },
  {
   "cell_type": "markdown",
   "id": "6d1608db",
   "metadata": {},
   "source": [
    "### 2c JSON parsing"
   ]
  },
  {
   "cell_type": "code",
   "execution_count": null,
   "id": "38ddd535",
   "metadata": {},
   "outputs": [],
   "source": []
  },
  {
   "cell_type": "markdown",
   "id": "e5e4d9d2",
   "metadata": {},
   "source": [
    "# BASIC TEXT CLEANING"
   ]
  },
  {
   "cell_type": "code",
   "execution_count": 17,
   "id": "bd31eba2",
   "metadata": {},
   "outputs": [],
   "source": [
    "import warnings\n",
    "warnings.filterwarnings('ignore')"
   ]
  },
  {
   "cell_type": "code",
   "execution_count": 18,
   "id": "417b934f",
   "metadata": {},
   "outputs": [],
   "source": [
    "import nltk"
   ]
  },
  {
   "cell_type": "code",
   "execution_count": 19,
   "id": "6f6f2d95",
   "metadata": {},
   "outputs": [],
   "source": [
    "#nltk.download()"
   ]
  },
  {
   "cell_type": "markdown",
   "id": "8ecd313a",
   "metadata": {},
   "source": [
    "## Step1 -convert to lower case "
   ]
  },
  {
   "cell_type": "code",
   "execution_count": 20,
   "id": "25ecea93",
   "metadata": {},
   "outputs": [
    {
     "name": "stdout",
     "output_type": "stream",
     "text": [
      "[\"  \\nwhy teesside?\\n after completing my bachelor of medicine and bachelor of surgery (mbbs) degree in nigeria, i worked in specialist care. however, i knew i had a flair for public health and i was interested in pursuing a master’s degree in the field. i searched for universities that offered the course, and i was particularly interested in studying in the uk because i wanted a different learning experience to what i was used to.i made enquiries with some teesside alumni back in nigeria and they gave positive reviews of their time in middlesbrough. i was so encouraged by these reviews that i decided to go for it. \\nwhat was your course like?\\n the best thing about my course was conducting my final research. it was eye-opening and revealed some of my strengths. i had a supervisor who was helpful throughout the process and this really enabled me to progress with the research.the relaxed environment and atmosphere really helped me to make friends with my classmates, who came from all around the world, and this was helpful for me being away from home. it was great meeting new people, learning with them and also having fun.the classes inspired me to study and helped to boost my confidence. even now that i’m out of the university system, i find that i still use the knowledge and skills learned during the course for my medical practice. i was able to develop life skills such as critical-thinking. \\nwhat was your social life like?\\n i had a lot of fun at teesside university. from the welcome event for international students, to the time spent at the students' union socialising, there was a wide array of activities to choose from. i also enjoyed watching football matches at the riverside stadium and having nights out at restaurants in the town. \\nwhat have you been doing since graduation?\\n since graduation, i have worked as a freelancer in health research analysis and i’m now working as a primary care physician at quickcare clinic in lagos, nigeria. my time at teesside university definitely helped me to get closer to my goals. \\n\\n        \"]\n"
     ]
    }
   ],
   "source": [
    "import string\n",
    "\n",
    "read_word_list = [doc.lower()for doc in article1]\n",
    "\n",
    "print(read_word_list)"
   ]
  },
  {
   "cell_type": "markdown",
   "id": "83689d60",
   "metadata": {},
   "source": [
    "## Step 2 - Tokenization"
   ]
  },
  {
   "cell_type": "code",
   "execution_count": 21,
   "id": "a594ba0a",
   "metadata": {},
   "outputs": [
    {
     "name": "stdout",
     "output_type": "stream",
     "text": [
      "[['why', 'teesside', '?', 'after', 'completing', 'my', 'bachelor', 'of', 'medicine', 'and', 'bachelor', 'of', 'surgery', '(', 'mbbs', ')', 'degree', 'in', 'nigeria', ',', 'i', 'worked', 'in', 'specialist', 'care', '.', 'however', ',', 'i', 'knew', 'i', 'had', 'a', 'flair', 'for', 'public', 'health', 'and', 'i', 'was', 'interested', 'in', 'pursuing', 'a', 'master', '’', 's', 'degree', 'in', 'the', 'field', '.', 'i', 'searched', 'for', 'universities', 'that', 'offered', 'the', 'course', ',', 'and', 'i', 'was', 'particularly', 'interested', 'in', 'studying', 'in', 'the', 'uk', 'because', 'i', 'wanted', 'a', 'different', 'learning', 'experience', 'to', 'what', 'i', 'was', 'used', 'to.i', 'made', 'enquiries', 'with', 'some', 'teesside', 'alumni', 'back', 'in', 'nigeria', 'and', 'they', 'gave', 'positive', 'reviews', 'of', 'their', 'time', 'in', 'middlesbrough', '.', 'i', 'was', 'so', 'encouraged', 'by', 'these', 'reviews', 'that', 'i', 'decided', 'to', 'go', 'for', 'it', '.', 'what', 'was', 'your', 'course', 'like', '?', 'the', 'best', 'thing', 'about', 'my', 'course', 'was', 'conducting', 'my', 'final', 'research', '.', 'it', 'was', 'eye-opening', 'and', 'revealed', 'some', 'of', 'my', 'strengths', '.', 'i', 'had', 'a', 'supervisor', 'who', 'was', 'helpful', 'throughout', 'the', 'process', 'and', 'this', 'really', 'enabled', 'me', 'to', 'progress', 'with', 'the', 'research.the', 'relaxed', 'environment', 'and', 'atmosphere', 'really', 'helped', 'me', 'to', 'make', 'friends', 'with', 'my', 'classmates', ',', 'who', 'came', 'from', 'all', 'around', 'the', 'world', ',', 'and', 'this', 'was', 'helpful', 'for', 'me', 'being', 'away', 'from', 'home', '.', 'it', 'was', 'great', 'meeting', 'new', 'people', ',', 'learning', 'with', 'them', 'and', 'also', 'having', 'fun.the', 'classes', 'inspired', 'me', 'to', 'study', 'and', 'helped', 'to', 'boost', 'my', 'confidence', '.', 'even', 'now', 'that', 'i', '’', 'm', 'out', 'of', 'the', 'university', 'system', ',', 'i', 'find', 'that', 'i', 'still', 'use', 'the', 'knowledge', 'and', 'skills', 'learned', 'during', 'the', 'course', 'for', 'my', 'medical', 'practice', '.', 'i', 'was', 'able', 'to', 'develop', 'life', 'skills', 'such', 'as', 'critical-thinking', '.', 'what', 'was', 'your', 'social', 'life', 'like', '?', 'i', 'had', 'a', 'lot', 'of', 'fun', 'at', 'teesside', 'university', '.', 'from', 'the', 'welcome', 'event', 'for', 'international', 'students', ',', 'to', 'the', 'time', 'spent', 'at', 'the', 'students', \"'\", 'union', 'socialising', ',', 'there', 'was', 'a', 'wide', 'array', 'of', 'activities', 'to', 'choose', 'from', '.', 'i', 'also', 'enjoyed', 'watching', 'football', 'matches', 'at', 'the', 'riverside', 'stadium', 'and', 'having', 'nights', 'out', 'at', 'restaurants', 'in', 'the', 'town', '.', 'what', 'have', 'you', 'been', 'doing', 'since', 'graduation', '?', 'since', 'graduation', ',', 'i', 'have', 'worked', 'as', 'a', 'freelancer', 'in', 'health', 'research', 'analysis', 'and', 'i', '’', 'm', 'now', 'working', 'as', 'a', 'primary', 'care', 'physician', 'at', 'quickcare', 'clinic', 'in', 'lagos', ',', 'nigeria', '.', 'my', 'time', 'at', 'teesside', 'university', 'definitely', 'helped', 'me', 'to', 'get', 'closer', 'to', 'my', 'goals', '.']]\n"
     ]
    }
   ],
   "source": [
    "# word tokenize\n",
    "from nltk.tokenize import word_tokenize\n",
    "tokenized_word =[word_tokenize(doc) for doc in read_word_list]\n",
    "print(tokenized_word)"
   ]
  },
  {
   "cell_type": "code",
   "execution_count": 22,
   "id": "688229b0",
   "metadata": {},
   "outputs": [
    {
     "name": "stdout",
     "output_type": "stream",
     "text": [
      "[['  \\nwhy teesside?', 'after completing my bachelor of medicine and bachelor of surgery (mbbs) degree in nigeria, i worked in specialist care.', 'however, i knew i had a flair for public health and i was interested in pursuing a master’s degree in the field.', 'i searched for universities that offered the course, and i was particularly interested in studying in the uk because i wanted a different learning experience to what i was used to.i made enquiries with some teesside alumni back in nigeria and they gave positive reviews of their time in middlesbrough.', 'i was so encouraged by these reviews that i decided to go for it.', 'what was your course like?', 'the best thing about my course was conducting my final research.', 'it was eye-opening and revealed some of my strengths.', 'i had a supervisor who was helpful throughout the process and this really enabled me to progress with the research.the relaxed environment and atmosphere really helped me to make friends with my classmates, who came from all around the world, and this was helpful for me being away from home.', 'it was great meeting new people, learning with them and also having fun.the classes inspired me to study and helped to boost my confidence.', 'even now that i’m out of the university system, i find that i still use the knowledge and skills learned during the course for my medical practice.', 'i was able to develop life skills such as critical-thinking.', 'what was your social life like?', 'i had a lot of fun at teesside university.', \"from the welcome event for international students, to the time spent at the students' union socialising, there was a wide array of activities to choose from.\", 'i also enjoyed watching football matches at the riverside stadium and having nights out at restaurants in the town.', 'what have you been doing since graduation?', 'since graduation, i have worked as a freelancer in health research analysis and i’m now working as a primary care physician at quickcare clinic in lagos, nigeria.', 'my time at teesside university definitely helped me to get closer to my goals.']]\n"
     ]
    }
   ],
   "source": [
    "# sentence tokenization  \n",
    "from nltk.tokenize import sent_tokenize\n",
    "sent_tokenize = [sent_tokenize(doc) for doc in read_word_list]\n",
    "print(sent_tokenize)"
   ]
  },
  {
   "cell_type": "markdown",
   "id": "5c5b0eb7",
   "metadata": {},
   "source": [
    "## STEP 3: PUNCTUATION REMOVAL"
   ]
  },
  {
   "cell_type": "code",
   "execution_count": 23,
   "id": "30484adb",
   "metadata": {},
   "outputs": [
    {
     "name": "stdout",
     "output_type": "stream",
     "text": [
      "[['why', 'teesside', 'after', 'completing', 'my', 'bachelor', 'of', 'medicine', 'and', 'bachelor', 'of', 'surgery', 'mbbs', 'degree', 'in', 'nigeria', 'i', 'worked', 'in', 'specialist', 'care', 'however', 'i', 'knew', 'i', 'had', 'a', 'flair', 'for', 'public', 'health', 'and', 'i', 'was', 'interested', 'in', 'pursuing', 'a', 'master', '’', 's', 'degree', 'in', 'the', 'field', 'i', 'searched', 'for', 'universities', 'that', 'offered', 'the', 'course', 'and', 'i', 'was', 'particularly', 'interested', 'in', 'studying', 'in', 'the', 'uk', 'because', 'i', 'wanted', 'a', 'different', 'learning', 'experience', 'to', 'what', 'i', 'was', 'used', 'toi', 'made', 'enquiries', 'with', 'some', 'teesside', 'alumni', 'back', 'in', 'nigeria', 'and', 'they', 'gave', 'positive', 'reviews', 'of', 'their', 'time', 'in', 'middlesbrough', 'i', 'was', 'so', 'encouraged', 'by', 'these', 'reviews', 'that', 'i', 'decided', 'to', 'go', 'for', 'it', 'what', 'was', 'your', 'course', 'like', 'the', 'best', 'thing', 'about', 'my', 'course', 'was', 'conducting', 'my', 'final', 'research', 'it', 'was', 'eyeopening', 'and', 'revealed', 'some', 'of', 'my', 'strengths', 'i', 'had', 'a', 'supervisor', 'who', 'was', 'helpful', 'throughout', 'the', 'process', 'and', 'this', 'really', 'enabled', 'me', 'to', 'progress', 'with', 'the', 'researchthe', 'relaxed', 'environment', 'and', 'atmosphere', 'really', 'helped', 'me', 'to', 'make', 'friends', 'with', 'my', 'classmates', 'who', 'came', 'from', 'all', 'around', 'the', 'world', 'and', 'this', 'was', 'helpful', 'for', 'me', 'being', 'away', 'from', 'home', 'it', 'was', 'great', 'meeting', 'new', 'people', 'learning', 'with', 'them', 'and', 'also', 'having', 'funthe', 'classes', 'inspired', 'me', 'to', 'study', 'and', 'helped', 'to', 'boost', 'my', 'confidence', 'even', 'now', 'that', 'i', '’', 'm', 'out', 'of', 'the', 'university', 'system', 'i', 'find', 'that', 'i', 'still', 'use', 'the', 'knowledge', 'and', 'skills', 'learned', 'during', 'the', 'course', 'for', 'my', 'medical', 'practice', 'i', 'was', 'able', 'to', 'develop', 'life', 'skills', 'such', 'as', 'criticalthinking', 'what', 'was', 'your', 'social', 'life', 'like', 'i', 'had', 'a', 'lot', 'of', 'fun', 'at', 'teesside', 'university', 'from', 'the', 'welcome', 'event', 'for', 'international', 'students', 'to', 'the', 'time', 'spent', 'at', 'the', 'students', 'union', 'socialising', 'there', 'was', 'a', 'wide', 'array', 'of', 'activities', 'to', 'choose', 'from', 'i', 'also', 'enjoyed', 'watching', 'football', 'matches', 'at', 'the', 'riverside', 'stadium', 'and', 'having', 'nights', 'out', 'at', 'restaurants', 'in', 'the', 'town', 'what', 'have', 'you', 'been', 'doing', 'since', 'graduation', 'since', 'graduation', 'i', 'have', 'worked', 'as', 'a', 'freelancer', 'in', 'health', 'research', 'analysis', 'and', 'i', '’', 'm', 'now', 'working', 'as', 'a', 'primary', 'care', 'physician', 'at', 'quickcare', 'clinic', 'in', 'lagos', 'nigeria', 'my', 'time', 'at', 'teesside', 'university', 'definitely', 'helped', 'me', 'to', 'get', 'closer', 'to', 'my', 'goals']]\n"
     ]
    }
   ],
   "source": [
    "import re\n",
    "regex = re.compile('[%s]' % re.escape(string.punctuation))\n",
    "tokenized_word_withou_punctuation= []\n",
    "for review in tokenized_word:\n",
    "    new_review = []\n",
    "    for token in review:\n",
    "        new_token = regex.sub(u'', token)\n",
    "        if not new_token ==u'':\n",
    "            new_review.append(new_token)\n",
    "            \n",
    "            \n",
    "    tokenized_word_withou_punctuation.append(new_review)\n",
    "    \n",
    "print(tokenized_word_withou_punctuation)"
   ]
  },
  {
   "cell_type": "markdown",
   "id": "4c2a2038",
   "metadata": {},
   "source": [
    "## Step 4 Removing Stopwords"
   ]
  },
  {
   "cell_type": "code",
   "execution_count": 24,
   "id": "d2b4385d",
   "metadata": {},
   "outputs": [
    {
     "name": "stdout",
     "output_type": "stream",
     "text": [
      "[['teesside', 'completing', 'bachelor', 'medicine', 'bachelor', 'surgery', 'mbbs', 'degree', 'nigeria', 'worked', 'specialist', 'care', 'however', 'knew', 'flair', 'public', 'health', 'interested', 'pursuing', 'master', '’', 'degree', 'field', 'searched', 'universities', 'offered', 'course', 'particularly', 'interested', 'studying', 'uk', 'wanted', 'different', 'learning', 'experience', 'used', 'toi', 'made', 'enquiries', 'teesside', 'alumni', 'back', 'nigeria', 'gave', 'positive', 'reviews', 'time', 'middlesbrough', 'encouraged', 'reviews', 'decided', 'go', 'course', 'like', 'best', 'thing', 'course', 'conducting', 'final', 'research', 'eyeopening', 'revealed', 'strengths', 'supervisor', 'helpful', 'throughout', 'process', 'really', 'enabled', 'progress', 'researchthe', 'relaxed', 'environment', 'atmosphere', 'really', 'helped', 'make', 'friends', 'classmates', 'came', 'around', 'world', 'helpful', 'away', 'home', 'great', 'meeting', 'new', 'people', 'learning', 'also', 'funthe', 'classes', 'inspired', 'study', 'helped', 'boost', 'confidence', 'even', '’', 'university', 'system', 'find', 'still', 'use', 'knowledge', 'skills', 'learned', 'course', 'medical', 'practice', 'able', 'develop', 'life', 'skills', 'criticalthinking', 'social', 'life', 'like', 'lot', 'fun', 'teesside', 'university', 'welcome', 'event', 'international', 'students', 'time', 'spent', 'students', 'union', 'socialising', 'wide', 'array', 'activities', 'choose', 'also', 'enjoyed', 'watching', 'football', 'matches', 'riverside', 'stadium', 'nights', 'restaurants', 'town', 'since', 'graduation', 'since', 'graduation', 'worked', 'freelancer', 'health', 'research', 'analysis', '’', 'working', 'primary', 'care', 'physician', 'quickcare', 'clinic', 'lagos', 'nigeria', 'time', 'teesside', 'university', 'definitely', 'helped', 'get', 'closer', 'goals']]\n"
     ]
    }
   ],
   "source": [
    "from nltk.corpus import stopwords\n",
    "tokenized_word_stopwords = []\n",
    "\n",
    "for doc in tokenized_word_withou_punctuation:\n",
    "    new_term_vector = []\n",
    "    \n",
    "    for word in doc:\n",
    "        if not word in stopwords.words('english'):\n",
    "            new_term_vector.append(word)\n",
    "            \n",
    "    tokenized_word_stopwords.append(new_term_vector)\n",
    "    \n",
    "print(tokenized_word_stopwords)"
   ]
  },
  {
   "cell_type": "markdown",
   "id": "7bf10bd1",
   "metadata": {},
   "source": [
    "## Step 5: Stemming and Lemmantization"
   ]
  },
  {
   "cell_type": "code",
   "execution_count": 25,
   "id": "3b20617e",
   "metadata": {},
   "outputs": [
    {
     "name": "stdout",
     "output_type": "stream",
     "text": [
      "[['teesside', 'completing', 'bachelor', 'medicine', 'bachelor', 'surgery', 'mbbs', 'degree', 'nigeria', 'worked', 'specialist', 'care', 'however', 'knew', 'flair', 'public', 'health', 'interested', 'pursuing', 'master', '’', 'degree', 'field', 'searched', 'university', 'offered', 'course', 'particularly', 'interested', 'studying', 'uk', 'wanted', 'different', 'learning', 'experience', 'used', 'toi', 'made', 'enquiry', 'teesside', 'alumnus', 'back', 'nigeria', 'gave', 'positive', 'review', 'time', 'middlesbrough', 'encouraged', 'review', 'decided', 'go', 'course', 'like', 'best', 'thing', 'course', 'conducting', 'final', 'research', 'eyeopening', 'revealed', 'strength', 'supervisor', 'helpful', 'throughout', 'process', 'really', 'enabled', 'progress', 'researchthe', 'relaxed', 'environment', 'atmosphere', 'really', 'helped', 'make', 'friend', 'classmate', 'came', 'around', 'world', 'helpful', 'away', 'home', 'great', 'meeting', 'new', 'people', 'learning', 'also', 'funthe', 'class', 'inspired', 'study', 'helped', 'boost', 'confidence', 'even', '’', 'university', 'system', 'find', 'still', 'use', 'knowledge', 'skill', 'learned', 'course', 'medical', 'practice', 'able', 'develop', 'life', 'skill', 'criticalthinking', 'social', 'life', 'like', 'lot', 'fun', 'teesside', 'university', 'welcome', 'event', 'international', 'student', 'time', 'spent', 'student', 'union', 'socialising', 'wide', 'array', 'activity', 'choose', 'also', 'enjoyed', 'watching', 'football', 'match', 'riverside', 'stadium', 'night', 'restaurant', 'town', 'since', 'graduation', 'since', 'graduation', 'worked', 'freelancer', 'health', 'research', 'analysis', '’', 'working', 'primary', 'care', 'physician', 'quickcare', 'clinic', 'lagos', 'nigeria', 'time', 'teesside', 'university', 'definitely', 'helped', 'get', 'closer', 'goal']]\n"
     ]
    }
   ],
   "source": [
    "from nltk.stem.porter import PorterStemmer\n",
    "from nltk.stem.wordnet import WordNetLemmatizer\n",
    "\n",
    "stemmer = PorterStemmer()\n",
    "lemmantize = WordNetLemmatizer()\n",
    "\n",
    "\n",
    "processed_word = []\n",
    "\n",
    "\n",
    "for sent in tokenized_word_stopwords:\n",
    "    \n",
    "    final_word = []\n",
    "    for word in sent:\n",
    "        #stemm = stemmer.stem(word)\n",
    "        stemm = lemmantize.lemmatize(word)\n",
    "        final_word.append(stemm)\n",
    "        \n",
    "    processed_word.append(final_word)\n",
    "    \n",
    "print(processed_word)"
   ]
  },
  {
   "cell_type": "markdown",
   "id": "65b5d0f4",
   "metadata": {},
   "source": [
    "# Advance Cleaning technique 1 - Normalization"
   ]
  },
  {
   "cell_type": "code",
   "execution_count": 26,
   "id": "c2ad0d51",
   "metadata": {
    "scrolled": true
   },
   "outputs": [],
   "source": [
    "#pip install normalise\n"
   ]
  },
  {
   "cell_type": "code",
   "execution_count": 27,
   "id": "96179709",
   "metadata": {},
   "outputs": [],
   "source": [
    "#pip install normalise\n"
   ]
  },
  {
   "cell_type": "code",
   "execution_count": 28,
   "id": "c4b0ae9d",
   "metadata": {},
   "outputs": [],
   "source": [
    "#pip install scikit-learn"
   ]
  },
  {
   "cell_type": "code",
   "execution_count": 29,
   "id": "0fc8d6a8",
   "metadata": {},
   "outputs": [],
   "source": [
    "#!pip install scikit-learn --upgrade"
   ]
  },
  {
   "cell_type": "code",
   "execution_count": null,
   "id": "f68487d8",
   "metadata": {},
   "outputs": [],
   "source": []
  },
  {
   "cell_type": "code",
   "execution_count": 30,
   "id": "c739b6c6",
   "metadata": {},
   "outputs": [],
   "source": [
    "Word = ['i am very late today being 27th april 2023 so i have to rush to the market. TTYL. Luv u']"
   ]
  },
  {
   "cell_type": "code",
   "execution_count": 31,
   "id": "6173eb26",
   "metadata": {},
   "outputs": [
    {
     "data": {
      "text/plain": [
       "'from normalise import normalise\\n\\ncustom_abbreviation ={\"TTYL\":\\'Taltk to you later\\',\\n                     \"Luv\": \\'love\\',\\n                     \"u\": \\'you\\'}\\nnormalized_tokens = normalise(word_tokenize(Word),user_abbrevs =custom_abbreviation, verbose=False)\\ndisplay(f\"normalized: {\\'\\'.join(normalized_tokensokens)}\")'"
      ]
     },
     "execution_count": 31,
     "metadata": {},
     "output_type": "execute_result"
    }
   ],
   "source": [
    "\"\"\"from normalise import normalise\n",
    "\n",
    "custom_abbreviation ={\"TTYL\":'Taltk to you later',\n",
    "                     \"Luv\": 'love',\n",
    "                     \"u\": 'you'}\n",
    "normalized_tokens = normalise(word_tokenize(Word),user_abbrevs =custom_abbreviation, verbose=False)\n",
    "display(f\"normalized: {''.join(normalized_tokensokens)}\")\"\"\"\n",
    "#import sys\n",
    "#sys.path.append('/path/to/normalise')"
   ]
  },
  {
   "cell_type": "markdown",
   "id": "9cd0bcfe",
   "metadata": {},
   "source": [
    "# Feature Selection"
   ]
  },
  {
   "cell_type": "markdown",
   "id": "0d6da21f",
   "metadata": {},
   "source": [
    "## Countvectorizer (BoW)"
   ]
  },
  {
   "cell_type": "code",
   "execution_count": 32,
   "id": "b29c272f",
   "metadata": {},
   "outputs": [],
   "source": [
    "from sklearn.feature_extraction.text import CountVectorizer"
   ]
  },
  {
   "cell_type": "code",
   "execution_count": 33,
   "id": "a40bd14d",
   "metadata": {},
   "outputs": [
    {
     "data": {
      "text/plain": [
       "CountVectorizer()"
      ]
     },
     "execution_count": 33,
     "metadata": {},
     "output_type": "execute_result"
    }
   ],
   "source": [
    "vectorizer = CountVectorizer()\n",
    "vectorizer.fit(read_word_list)"
   ]
  },
  {
   "cell_type": "code",
   "execution_count": 34,
   "id": "e736013b",
   "metadata": {
    "scrolled": true
   },
   "outputs": [
    {
     "name": "stdout",
     "output_type": "stream",
     "text": [
      "{'why': 171, 'teesside': 144, 'after': 3, 'completing': 30, 'my': 98, 'bachelor': 15, 'of': 103, 'medicine': 95, 'and': 8, 'surgery': 142, 'mbbs': 92, 'degree': 37, 'in': 75, 'nigeria': 100, 'worked': 174, 'specialist': 132, 'care': 24, 'however': 74, 'knew': 80, 'had': 67, 'flair': 54, 'for': 56, 'public': 115, 'health': 70, 'was': 166, 'interested': 77, 'pursuing': 116, 'master': 90, 'the': 146, 'field': 51, 'searched': 125, 'universities': 161, 'that': 145, 'offered': 104, 'course': 33, 'particularly': 107, 'studying': 139, 'uk': 159, 'because': 17, 'wanted': 165, 'different': 39, 'learning': 84, 'experience': 49, 'to': 157, 'what': 169, 'used': 164, 'made': 88, 'enquiries': 45, 'with': 173, 'some': 131, 'alumni': 6, 'back': 16, 'they': 151, 'gave': 61, 'positive': 110, 'reviews': 123, 'their': 147, 'time': 156, 'middlesbrough': 97, 'so': 128, 'encouraged': 43, 'by': 22, 'these': 150, 'decided': 35, 'go': 63, 'it': 79, 'your': 178, 'like': 86, 'best': 20, 'thing': 152, 'about': 1, 'conducting': 31, 'final': 52, 'research': 120, 'eye': 50, 'opening': 105, 'revealed': 122, 'strengths': 136, 'supervisor': 141, 'who': 170, 'helpful': 72, 'throughout': 155, 'process': 113, 'this': 154, 'really': 118, 'enabled': 42, 'me': 93, 'progress': 114, 'relaxed': 119, 'environment': 46, 'atmosphere': 13, 'helped': 71, 'make': 89, 'friends': 58, 'classmates': 27, 'came': 23, 'from': 59, 'all': 4, 'around': 9, 'world': 176, 'being': 19, 'away': 14, 'home': 73, 'great': 66, 'meeting': 96, 'new': 99, 'people': 108, 'them': 148, 'also': 5, 'having': 69, 'fun': 60, 'classes': 26, 'inspired': 76, 'study': 138, 'boost': 21, 'confidence': 32, 'even': 47, 'now': 102, 'out': 106, 'university': 162, 'system': 143, 'find': 53, 'still': 135, 'use': 163, 'knowledge': 81, 'skills': 127, 'learned': 83, 'during': 41, 'medical': 94, 'practice': 111, 'able': 0, 'develop': 38, 'life': 85, 'such': 140, 'as': 11, 'critical': 34, 'thinking': 153, 'social': 129, 'lot': 87, 'at': 12, 'welcome': 168, 'event': 48, 'international': 78, 'students': 137, 'spent': 133, 'union': 160, 'socialising': 130, 'there': 149, 'wide': 172, 'array': 10, 'activities': 2, 'choose': 25, 'enjoyed': 44, 'watching': 167, 'football': 55, 'matches': 91, 'riverside': 124, 'stadium': 134, 'nights': 101, 'restaurants': 121, 'town': 158, 'have': 68, 'you': 177, 'been': 18, 'doing': 40, 'since': 126, 'graduation': 65, 'freelancer': 57, 'analysis': 7, 'working': 175, 'primary': 112, 'physician': 109, 'quickcare': 117, 'clinic': 28, 'lagos': 82, 'definitely': 36, 'get': 62, 'closer': 29, 'goals': 64}\n"
     ]
    }
   ],
   "source": [
    " print (vectorizer.vocabulary_)"
   ]
  },
  {
   "cell_type": "code",
   "execution_count": 35,
   "id": "f6f2037f",
   "metadata": {},
   "outputs": [
    {
     "data": {
      "image/png": "[encoded data removed]",
      "text/plain": [
       "<IPython.core.display.Image object>"
      ]
     },
     "execution_count": 35,
     "metadata": {},
     "output_type": "execute_result"
    }
   ],
   "source": [
    "from IPython.display import Image\n",
    "Image(filename='/Users/Datasets/BoW_1.png')"
   ]
  },
  {
   "cell_type": "code",
   "execution_count": 36,
   "id": "5aee704b",
   "metadata": {},
   "outputs": [
    {
     "name": "stdout",
     "output_type": "stream",
     "text": [
      "[[0 0 0 0 0 0 0 0 0 0 0 0 0 0 0 0 0 0 0 1 0 0 0 0 0 0 0 0 0 0 0 0 0 0 0 0\n",
      "  0 0 0 0 0 0 0 0 0 0 0 0 0 0 0 0 0 0 0 0 0 0 0 0 0 0 0 0 0 0 0 0 1 0 0 0\n",
      "  0 0 0 0 0 0 0 0 0 0 0 0 0 0 0 0 0 0 0 0 0 0 0 0 0 0 0 0 0 0 0 0 0 0 0 0\n",
      "  0 0 0 0 0 0 0 0 0 0 0 0 0 0 0 0 0 0 0 0 1 0 0 0 0 0 0 0 0 0 0 0 0 0 0 0\n",
      "  0 0 1 0 0 0 0 0 0 0 0 0 0 2 0 0 0 0 0 0 0 0 0 0 0 0 0 0 0 0 0 0 0 0 0]]\n"
     ]
    }
   ],
   "source": [
    "fit_new_data = vectorizer.transform(Word)\n",
    "print(fit_new_data.toarray())"
   ]
  },
  {
   "cell_type": "markdown",
   "id": "a395a2e8",
   "metadata": {},
   "source": [
    "## TF-DIF"
   ]
  },
  {
   "cell_type": "code",
   "execution_count": 37,
   "id": "748e186e",
   "metadata": {},
   "outputs": [],
   "source": [
    "from sklearn.feature_extraction.text import TfidfVectorizer\n",
    "Word_new = ['Blessing needs rest','She is scared of failure not as a data analyst','Blessing wants to be a data scientist']\n",
    "tf_vec = TfidfVectorizer()"
   ]
  },
  {
   "cell_type": "code",
   "execution_count": 38,
   "id": "75d35c47",
   "metadata": {},
   "outputs": [
    {
     "data": {
      "text/plain": [
       "TfidfVectorizer()"
      ]
     },
     "execution_count": 38,
     "metadata": {},
     "output_type": "execute_result"
    }
   ],
   "source": [
    "tf_vec.fit(Word_new)"
   ]
  },
  {
   "cell_type": "code",
   "execution_count": 39,
   "id": "a6a768ef",
   "metadata": {},
   "outputs": [
    {
     "name": "stdout",
     "output_type": "stream",
     "text": [
      "[1.69314718 1.69314718 1.69314718 1.28768207 1.28768207 1.69314718\n",
      " 1.69314718 1.69314718 1.69314718 1.69314718 1.69314718 1.69314718\n",
      " 1.69314718 1.69314718 1.69314718 1.69314718]\n"
     ]
    }
   ],
   "source": [
    "print(tf_vec.idf_)"
   ]
  },
  {
   "cell_type": "code",
   "execution_count": 40,
   "id": "40117984",
   "metadata": {},
   "outputs": [
    {
     "name": "stdout",
     "output_type": "stream",
     "text": [
      "{'blessing': 3, 'needs': 7, 'rest': 10, 'she': 13, 'is': 6, 'scared': 11, 'of': 9, 'failure': 5, 'not': 8, 'as': 1, 'data': 4, 'analyst': 0, 'wants': 15, 'to': 14, 'be': 2, 'scientist': 12}\n"
     ]
    }
   ],
   "source": [
    "print(tf_vec.vocabulary_)"
   ]
  },
  {
   "cell_type": "code",
   "execution_count": 42,
   "id": "4879affe",
   "metadata": {},
   "outputs": [
    {
     "data": {
      "text/plain": [
       "'Blessing needs rest'"
      ]
     },
     "execution_count": 42,
     "metadata": {},
     "output_type": "execute_result"
    }
   ],
   "source": [
    "text1 =Word_new[0]\n",
    "text1"
   ]
  },
  {
   "cell_type": "code",
   "execution_count": 44,
   "id": "94294a55",
   "metadata": {},
   "outputs": [],
   "source": [
    "new_tf = tf_vec.transform([text1])"
   ]
  },
  {
   "cell_type": "code",
   "execution_count": 45,
   "id": "fe0df05d",
   "metadata": {},
   "outputs": [
    {
     "name": "stdout",
     "output_type": "stream",
     "text": [
      "[[0.         0.         0.         0.4736296  0.         0.\n",
      "  0.         0.62276601 0.         0.         0.62276601 0.\n",
      "  0.         0.         0.         0.        ]]\n"
     ]
    }
   ],
   "source": [
    " print(new_tf.toarray())"
   ]
  },
  {
   "cell_type": "code",
   "execution_count": null,
   "id": "45215834",
   "metadata": {},
   "outputs": [],
   "source": []
  }
 ],
 "metadata": {
  "kernelspec": {
   "display_name": "Python 3",
   "language": "python",
   "name": "python3"
  },
  "language_info": {
   "codemirror_mode": {
    "name": "ipython",
    "version": 3
   },
   "file_extension": ".py",
   "mimetype": "text/x-python",
   "name": "python",
   "nbconvert_exporter": "python",
   "pygments_lexer": "ipython3",
   "version": "3.8.8"
  }
 },
 "nbformat": 4,
 "nbformat_minor": 5
}
